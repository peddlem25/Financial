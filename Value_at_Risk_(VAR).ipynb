{
  "nbformat": 4,
  "nbformat_minor": 0,
  "metadata": {
    "colab": {
      "name": "Value at Risk (VAR).ipynb",
      "provenance": [],
      "collapsed_sections": []
    },
    "kernelspec": {
      "name": "python3",
      "display_name": "Python 3"
    }
  },
  "cells": [
    {
      "cell_type": "markdown",
      "metadata": {
        "id": "vF1YjrxIv_JZ",
        "colab_type": "text"
      },
      "source": [
        "## Value at Risk (VAR)\n",
        "\n",
        "In general, the Value at Risk (VAR) measures the potential return in value of a risky asset or portfolio during a time period. It has three components: a time period, the probablity (of a return smaller than or equal to the specified return) and a return amount (or return percentage)\n",
        "\n",
        "![alt text](/content/VaR_diagram.png)\n",
        "\n",
        "VAR is used most often by commercial and investment banks to capture the potential loss of their traded portfolios over a specified period. The first regulatory measures that evoke Value at Risk (VAR) were initiated in 1980, when the SEC tied the capital requirements of financial service firms to the losses that would be incurred, with 95% confidence over a thirty-day interval, in different security classes; historical returns were used to compute these potential losses.\n",
        "\n",
        "In 1995, J.P. Morgan provided public access to data on the variances of and covariances across various security and asset classes, that it had used internally for almost a decade to manage risk, and allowed software makers to develop software to measure risk.\n",
        "\n",
        "There are numerous approaches used to compute Value at Risk. The measure can be computed by investigating the return distritutions for market risks, and by using the variances in and covariances across these risks. It can also be estimated by running Monte Calo simulations through historical data. In this study we are going to discuss the two methonds below:\n",
        "\n",
        "## Historical method\n",
        "## Variance method"
      ]
    },
    {
      "cell_type": "code",
      "metadata": {
        "id": "i3X_V_d0tmgC",
        "colab_type": "code",
        "colab": {}
      },
      "source": [
        "import matplotlib.pyplot as plt\n",
        "%matplotlib inline \n",
        "from pandas_datareader import data, wb\n",
        "import datetime\n",
        "import numpy\n",
        "import seaborn as sns\n",
        "sns.set(style=\"darkgrid\", context=\"poster\")"
      ],
      "execution_count": 0,
      "outputs": []
    },
    {
      "cell_type": "markdown",
      "metadata": {
        "id": "3-0akQ49wZkn",
        "colab_type": "text"
      },
      "source": [
        "# Extract data from web\n",
        "\n",
        "Let's extract the stock price of TELSA from 1 Jan 2016 to 1 Jan 2017 in only 3 lines.\n",
        "We will use yahoo as google finance has stoped working"
      ]
    },
    {
      "cell_type": "code",
      "metadata": {
        "id": "qxOfWlbBtzTO",
        "colab_type": "code",
        "colab": {}
      },
      "source": [
        "# set start and end date\n",
        "start = datetime.datetime(2016, 1, 1)\n",
        "end = datetime.datetime(2020, 2, 5)\n",
        "f = data.DataReader(\"TSLA\", \"yahoo\", start, end)\n",
        "\n",
        "# \"TSLA\" --> stock name\n",
        "# \"yahoo\" --> server name\n",
        "# start --> start date\n",
        "# end --> end date"
      ],
      "execution_count": 0,
      "outputs": []
    },
    {
      "cell_type": "code",
      "metadata": {
        "id": "2Jp5t_tIuFfc",
        "colab_type": "code",
        "colab": {
          "base_uri": "https://localhost:8080/",
          "height": 450
        },
        "outputId": "a49cc57c-baec-48e5-e744-b42dd79a2ac5"
      },
      "source": [
        "f"
      ],
      "execution_count": 35,
      "outputs": [
        {
          "output_type": "execute_result",
          "data": {
            "text/html": [
              "<div>\n",
              "<style scoped>\n",
              "    .dataframe tbody tr th:only-of-type {\n",
              "        vertical-align: middle;\n",
              "    }\n",
              "\n",
              "    .dataframe tbody tr th {\n",
              "        vertical-align: top;\n",
              "    }\n",
              "\n",
              "    .dataframe thead th {\n",
              "        text-align: right;\n",
              "    }\n",
              "</style>\n",
              "<table border=\"1\" class=\"dataframe\">\n",
              "  <thead>\n",
              "    <tr style=\"text-align: right;\">\n",
              "      <th></th>\n",
              "      <th>High</th>\n",
              "      <th>Low</th>\n",
              "      <th>Open</th>\n",
              "      <th>Close</th>\n",
              "      <th>Volume</th>\n",
              "      <th>Adj Close</th>\n",
              "    </tr>\n",
              "    <tr>\n",
              "      <th>Date</th>\n",
              "      <th></th>\n",
              "      <th></th>\n",
              "      <th></th>\n",
              "      <th></th>\n",
              "      <th></th>\n",
              "      <th></th>\n",
              "    </tr>\n",
              "  </thead>\n",
              "  <tbody>\n",
              "    <tr>\n",
              "      <th>2016-01-04</th>\n",
              "      <td>231.380005</td>\n",
              "      <td>219.000000</td>\n",
              "      <td>230.720001</td>\n",
              "      <td>223.410004</td>\n",
              "      <td>6827100</td>\n",
              "      <td>223.410004</td>\n",
              "    </tr>\n",
              "    <tr>\n",
              "      <th>2016-01-05</th>\n",
              "      <td>226.889999</td>\n",
              "      <td>220.000000</td>\n",
              "      <td>226.360001</td>\n",
              "      <td>223.429993</td>\n",
              "      <td>3186800</td>\n",
              "      <td>223.429993</td>\n",
              "    </tr>\n",
              "    <tr>\n",
              "      <th>2016-01-06</th>\n",
              "      <td>220.050003</td>\n",
              "      <td>215.979996</td>\n",
              "      <td>220.000000</td>\n",
              "      <td>219.039993</td>\n",
              "      <td>3779100</td>\n",
              "      <td>219.039993</td>\n",
              "    </tr>\n",
              "    <tr>\n",
              "      <th>2016-01-07</th>\n",
              "      <td>218.440002</td>\n",
              "      <td>213.669998</td>\n",
              "      <td>214.190002</td>\n",
              "      <td>215.649994</td>\n",
              "      <td>3554300</td>\n",
              "      <td>215.649994</td>\n",
              "    </tr>\n",
              "    <tr>\n",
              "      <th>2016-01-08</th>\n",
              "      <td>220.440002</td>\n",
              "      <td>210.770004</td>\n",
              "      <td>217.860001</td>\n",
              "      <td>211.000000</td>\n",
              "      <td>3628100</td>\n",
              "      <td>211.000000</td>\n",
              "    </tr>\n",
              "    <tr>\n",
              "      <th>...</th>\n",
              "      <td>...</td>\n",
              "      <td>...</td>\n",
              "      <td>...</td>\n",
              "      <td>...</td>\n",
              "      <td>...</td>\n",
              "      <td>...</td>\n",
              "    </tr>\n",
              "    <tr>\n",
              "      <th>2020-01-30</th>\n",
              "      <td>650.880005</td>\n",
              "      <td>618.000000</td>\n",
              "      <td>632.419983</td>\n",
              "      <td>640.809998</td>\n",
              "      <td>29005700</td>\n",
              "      <td>640.809998</td>\n",
              "    </tr>\n",
              "    <tr>\n",
              "      <th>2020-01-31</th>\n",
              "      <td>653.000000</td>\n",
              "      <td>632.520020</td>\n",
              "      <td>640.000000</td>\n",
              "      <td>650.570007</td>\n",
              "      <td>15719300</td>\n",
              "      <td>650.570007</td>\n",
              "    </tr>\n",
              "    <tr>\n",
              "      <th>2020-02-03</th>\n",
              "      <td>786.140015</td>\n",
              "      <td>673.520020</td>\n",
              "      <td>673.690002</td>\n",
              "      <td>780.000000</td>\n",
              "      <td>47233500</td>\n",
              "      <td>780.000000</td>\n",
              "    </tr>\n",
              "    <tr>\n",
              "      <th>2020-02-04</th>\n",
              "      <td>968.989990</td>\n",
              "      <td>833.880005</td>\n",
              "      <td>882.960022</td>\n",
              "      <td>887.059998</td>\n",
              "      <td>60938800</td>\n",
              "      <td>887.059998</td>\n",
              "    </tr>\n",
              "    <tr>\n",
              "      <th>2020-02-05</th>\n",
              "      <td>845.979980</td>\n",
              "      <td>704.109985</td>\n",
              "      <td>823.260010</td>\n",
              "      <td>734.700012</td>\n",
              "      <td>48423800</td>\n",
              "      <td>734.700012</td>\n",
              "    </tr>\n",
              "  </tbody>\n",
              "</table>\n",
              "<p>1030 rows × 6 columns</p>\n",
              "</div>"
            ],
            "text/plain": [
              "                  High         Low  ...    Volume   Adj Close\n",
              "Date                                ...                      \n",
              "2016-01-04  231.380005  219.000000  ...   6827100  223.410004\n",
              "2016-01-05  226.889999  220.000000  ...   3186800  223.429993\n",
              "2016-01-06  220.050003  215.979996  ...   3779100  219.039993\n",
              "2016-01-07  218.440002  213.669998  ...   3554300  215.649994\n",
              "2016-01-08  220.440002  210.770004  ...   3628100  211.000000\n",
              "...                ...         ...  ...       ...         ...\n",
              "2020-01-30  650.880005  618.000000  ...  29005700  640.809998\n",
              "2020-01-31  653.000000  632.520020  ...  15719300  650.570007\n",
              "2020-02-03  786.140015  673.520020  ...  47233500  780.000000\n",
              "2020-02-04  968.989990  833.880005  ...  60938800  887.059998\n",
              "2020-02-05  845.979980  704.109985  ...  48423800  734.700012\n",
              "\n",
              "[1030 rows x 6 columns]"
            ]
          },
          "metadata": {
            "tags": []
          },
          "execution_count": 35
        }
      ]
    },
    {
      "cell_type": "code",
      "metadata": {
        "id": "xmcDtx-YuI0g",
        "colab_type": "code",
        "colab": {
          "base_uri": "https://localhost:8080/",
          "height": 238
        },
        "outputId": "1fdb2f48-7ed2-4bc5-c1d9-c857317d86bf"
      },
      "source": [
        "# select one column\n",
        "f['Close']"
      ],
      "execution_count": 36,
      "outputs": [
        {
          "output_type": "execute_result",
          "data": {
            "text/plain": [
              "Date\n",
              "2016-01-04    223.410004\n",
              "2016-01-05    223.429993\n",
              "2016-01-06    219.039993\n",
              "2016-01-07    215.649994\n",
              "2016-01-08    211.000000\n",
              "                 ...    \n",
              "2020-01-30    640.809998\n",
              "2020-01-31    650.570007\n",
              "2020-02-03    780.000000\n",
              "2020-02-04    887.059998\n",
              "2020-02-05    734.700012\n",
              "Name: Close, Length: 1030, dtype: float64"
            ]
          },
          "metadata": {
            "tags": []
          },
          "execution_count": 36
        }
      ]
    },
    {
      "cell_type": "markdown",
      "metadata": {
        "id": "kVgTC8-tuMIB",
        "colab_type": "text"
      },
      "source": [
        "## Make Chart"
      ]
    },
    {
      "cell_type": "code",
      "metadata": {
        "id": "8x9d0mFruOh6",
        "colab_type": "code",
        "colab": {
          "base_uri": "https://localhost:8080/",
          "height": 351
        },
        "outputId": "8c9486a6-115b-4b72-e437-fcc7d479df39"
      },
      "source": [
        "f['Close'].plot()\n"
      ],
      "execution_count": 37,
      "outputs": [
        {
          "output_type": "execute_result",
          "data": {
            "text/plain": [
              "<matplotlib.axes._subplots.AxesSubplot at 0x7f0ca619c780>"
            ]
          },
          "metadata": {
            "tags": []
          },
          "execution_count": 37
        },
        {
          "output_type": "display_data",
          "data": {
            "image/png": "[encoded data removed]",
            "text/plain": [
              "<Figure size 432x288 with 1 Axes>"
            ]
          },
          "metadata": {
            "tags": []
          }
        }
      ]
    },
    {
      "cell_type": "markdown",
      "metadata": {
        "id": "koy0tIEDuR8B",
        "colab_type": "text"
      },
      "source": [
        "## Select multiple columns¶\n"
      ]
    },
    {
      "cell_type": "code",
      "metadata": {
        "id": "95js1HK2uS5k",
        "colab_type": "code",
        "colab": {
          "base_uri": "https://localhost:8080/",
          "height": 450
        },
        "outputId": "7c1bea91-8929-4c1b-9f46-c1ede37d2874"
      },
      "source": [
        "f[['High', 'Low']]\n"
      ],
      "execution_count": 38,
      "outputs": [
        {
          "output_type": "execute_result",
          "data": {
            "text/html": [
              "<div>\n",
              "<style scoped>\n",
              "    .dataframe tbody tr th:only-of-type {\n",
              "        vertical-align: middle;\n",
              "    }\n",
              "\n",
              "    .dataframe tbody tr th {\n",
              "        vertical-align: top;\n",
              "    }\n",
              "\n",
              "    .dataframe thead th {\n",
              "        text-align: right;\n",
              "    }\n",
              "</style>\n",
              "<table border=\"1\" class=\"dataframe\">\n",
              "  <thead>\n",
              "    <tr style=\"text-align: right;\">\n",
              "      <th></th>\n",
              "      <th>High</th>\n",
              "      <th>Low</th>\n",
              "    </tr>\n",
              "    <tr>\n",
              "      <th>Date</th>\n",
              "      <th></th>\n",
              "      <th></th>\n",
              "    </tr>\n",
              "  </thead>\n",
              "  <tbody>\n",
              "    <tr>\n",
              "      <th>2016-01-04</th>\n",
              "      <td>231.380005</td>\n",
              "      <td>219.000000</td>\n",
              "    </tr>\n",
              "    <tr>\n",
              "      <th>2016-01-05</th>\n",
              "      <td>226.889999</td>\n",
              "      <td>220.000000</td>\n",
              "    </tr>\n",
              "    <tr>\n",
              "      <th>2016-01-06</th>\n",
              "      <td>220.050003</td>\n",
              "      <td>215.979996</td>\n",
              "    </tr>\n",
              "    <tr>\n",
              "      <th>2016-01-07</th>\n",
              "      <td>218.440002</td>\n",
              "      <td>213.669998</td>\n",
              "    </tr>\n",
              "    <tr>\n",
              "      <th>2016-01-08</th>\n",
              "      <td>220.440002</td>\n",
              "      <td>210.770004</td>\n",
              "    </tr>\n",
              "    <tr>\n",
              "      <th>...</th>\n",
              "      <td>...</td>\n",
              "      <td>...</td>\n",
              "    </tr>\n",
              "    <tr>\n",
              "      <th>2020-01-30</th>\n",
              "      <td>650.880005</td>\n",
              "      <td>618.000000</td>\n",
              "    </tr>\n",
              "    <tr>\n",
              "      <th>2020-01-31</th>\n",
              "      <td>653.000000</td>\n",
              "      <td>632.520020</td>\n",
              "    </tr>\n",
              "    <tr>\n",
              "      <th>2020-02-03</th>\n",
              "      <td>786.140015</td>\n",
              "      <td>673.520020</td>\n",
              "    </tr>\n",
              "    <tr>\n",
              "      <th>2020-02-04</th>\n",
              "      <td>968.989990</td>\n",
              "      <td>833.880005</td>\n",
              "    </tr>\n",
              "    <tr>\n",
              "      <th>2020-02-05</th>\n",
              "      <td>845.979980</td>\n",
              "      <td>704.109985</td>\n",
              "    </tr>\n",
              "  </tbody>\n",
              "</table>\n",
              "<p>1030 rows × 2 columns</p>\n",
              "</div>"
            ],
            "text/plain": [
              "                  High         Low\n",
              "Date                              \n",
              "2016-01-04  231.380005  219.000000\n",
              "2016-01-05  226.889999  220.000000\n",
              "2016-01-06  220.050003  215.979996\n",
              "2016-01-07  218.440002  213.669998\n",
              "2016-01-08  220.440002  210.770004\n",
              "...                ...         ...\n",
              "2020-01-30  650.880005  618.000000\n",
              "2020-01-31  653.000000  632.520020\n",
              "2020-02-03  786.140015  673.520020\n",
              "2020-02-04  968.989990  833.880005\n",
              "2020-02-05  845.979980  704.109985\n",
              "\n",
              "[1030 rows x 2 columns]"
            ]
          },
          "metadata": {
            "tags": []
          },
          "execution_count": 38
        }
      ]
    },
    {
      "cell_type": "code",
      "metadata": {
        "id": "xpd_6FFvuXXR",
        "colab_type": "code",
        "colab": {
          "base_uri": "https://localhost:8080/",
          "height": 357
        },
        "outputId": "b3212ece-a164-4e88-f288-67e8396e6289"
      },
      "source": [
        "# make a plot\n",
        "f[['High', 'Low']].plot()"
      ],
      "execution_count": 39,
      "outputs": [
        {
          "output_type": "execute_result",
          "data": {
            "text/plain": [
              "<matplotlib.axes._subplots.AxesSubplot at 0x7f0ca6203160>"
            ]
          },
          "metadata": {
            "tags": []
          },
          "execution_count": 39
        },
        {
          "output_type": "display_data",
          "data": {
            "image/png": "[encoded data removed]",
            "text/plain": [
              "<Figure size 432x288 with 1 Axes>"
            ]
          },
          "metadata": {
            "tags": []
          }
        }
      ]
    },
    {
      "cell_type": "markdown",
      "metadata": {
        "id": "oUIniDBHuaVM",
        "colab_type": "text"
      },
      "source": [
        "## Calculate return¶\n"
      ]
    },
    {
      "cell_type": "code",
      "metadata": {
        "id": "jFpHtu7WubLk",
        "colab_type": "code",
        "colab": {
          "base_uri": "https://localhost:8080/",
          "height": 450
        },
        "outputId": "4402080e-e6bf-47b6-a38a-1c411e76283b"
      },
      "source": [
        "f"
      ],
      "execution_count": 40,
      "outputs": [
        {
          "output_type": "execute_result",
          "data": {
            "text/html": [
              "<div>\n",
              "<style scoped>\n",
              "    .dataframe tbody tr th:only-of-type {\n",
              "        vertical-align: middle;\n",
              "    }\n",
              "\n",
              "    .dataframe tbody tr th {\n",
              "        vertical-align: top;\n",
              "    }\n",
              "\n",
              "    .dataframe thead th {\n",
              "        text-align: right;\n",
              "    }\n",
              "</style>\n",
              "<table border=\"1\" class=\"dataframe\">\n",
              "  <thead>\n",
              "    <tr style=\"text-align: right;\">\n",
              "      <th></th>\n",
              "      <th>High</th>\n",
              "      <th>Low</th>\n",
              "      <th>Open</th>\n",
              "      <th>Close</th>\n",
              "      <th>Volume</th>\n",
              "      <th>Adj Close</th>\n",
              "    </tr>\n",
              "    <tr>\n",
              "      <th>Date</th>\n",
              "      <th></th>\n",
              "      <th></th>\n",
              "      <th></th>\n",
              "      <th></th>\n",
              "      <th></th>\n",
              "      <th></th>\n",
              "    </tr>\n",
              "  </thead>\n",
              "  <tbody>\n",
              "    <tr>\n",
              "      <th>2016-01-04</th>\n",
              "      <td>231.380005</td>\n",
              "      <td>219.000000</td>\n",
              "      <td>230.720001</td>\n",
              "      <td>223.410004</td>\n",
              "      <td>6827100</td>\n",
              "      <td>223.410004</td>\n",
              "    </tr>\n",
              "    <tr>\n",
              "      <th>2016-01-05</th>\n",
              "      <td>226.889999</td>\n",
              "      <td>220.000000</td>\n",
              "      <td>226.360001</td>\n",
              "      <td>223.429993</td>\n",
              "      <td>3186800</td>\n",
              "      <td>223.429993</td>\n",
              "    </tr>\n",
              "    <tr>\n",
              "      <th>2016-01-06</th>\n",
              "      <td>220.050003</td>\n",
              "      <td>215.979996</td>\n",
              "      <td>220.000000</td>\n",
              "      <td>219.039993</td>\n",
              "      <td>3779100</td>\n",
              "      <td>219.039993</td>\n",
              "    </tr>\n",
              "    <tr>\n",
              "      <th>2016-01-07</th>\n",
              "      <td>218.440002</td>\n",
              "      <td>213.669998</td>\n",
              "      <td>214.190002</td>\n",
              "      <td>215.649994</td>\n",
              "      <td>3554300</td>\n",
              "      <td>215.649994</td>\n",
              "    </tr>\n",
              "    <tr>\n",
              "      <th>2016-01-08</th>\n",
              "      <td>220.440002</td>\n",
              "      <td>210.770004</td>\n",
              "      <td>217.860001</td>\n",
              "      <td>211.000000</td>\n",
              "      <td>3628100</td>\n",
              "      <td>211.000000</td>\n",
              "    </tr>\n",
              "    <tr>\n",
              "      <th>...</th>\n",
              "      <td>...</td>\n",
              "      <td>...</td>\n",
              "      <td>...</td>\n",
              "      <td>...</td>\n",
              "      <td>...</td>\n",
              "      <td>...</td>\n",
              "    </tr>\n",
              "    <tr>\n",
              "      <th>2020-01-30</th>\n",
              "      <td>650.880005</td>\n",
              "      <td>618.000000</td>\n",
              "      <td>632.419983</td>\n",
              "      <td>640.809998</td>\n",
              "      <td>29005700</td>\n",
              "      <td>640.809998</td>\n",
              "    </tr>\n",
              "    <tr>\n",
              "      <th>2020-01-31</th>\n",
              "      <td>653.000000</td>\n",
              "      <td>632.520020</td>\n",
              "      <td>640.000000</td>\n",
              "      <td>650.570007</td>\n",
              "      <td>15719300</td>\n",
              "      <td>650.570007</td>\n",
              "    </tr>\n",
              "    <tr>\n",
              "      <th>2020-02-03</th>\n",
              "      <td>786.140015</td>\n",
              "      <td>673.520020</td>\n",
              "      <td>673.690002</td>\n",
              "      <td>780.000000</td>\n",
              "      <td>47233500</td>\n",
              "      <td>780.000000</td>\n",
              "    </tr>\n",
              "    <tr>\n",
              "      <th>2020-02-04</th>\n",
              "      <td>968.989990</td>\n",
              "      <td>833.880005</td>\n",
              "      <td>882.960022</td>\n",
              "      <td>887.059998</td>\n",
              "      <td>60938800</td>\n",
              "      <td>887.059998</td>\n",
              "    </tr>\n",
              "    <tr>\n",
              "      <th>2020-02-05</th>\n",
              "      <td>845.979980</td>\n",
              "      <td>704.109985</td>\n",
              "      <td>823.260010</td>\n",
              "      <td>734.700012</td>\n",
              "      <td>48423800</td>\n",
              "      <td>734.700012</td>\n",
              "    </tr>\n",
              "  </tbody>\n",
              "</table>\n",
              "<p>1030 rows × 6 columns</p>\n",
              "</div>"
            ],
            "text/plain": [
              "                  High         Low  ...    Volume   Adj Close\n",
              "Date                                ...                      \n",
              "2016-01-04  231.380005  219.000000  ...   6827100  223.410004\n",
              "2016-01-05  226.889999  220.000000  ...   3186800  223.429993\n",
              "2016-01-06  220.050003  215.979996  ...   3779100  219.039993\n",
              "2016-01-07  218.440002  213.669998  ...   3554300  215.649994\n",
              "2016-01-08  220.440002  210.770004  ...   3628100  211.000000\n",
              "...                ...         ...  ...       ...         ...\n",
              "2020-01-30  650.880005  618.000000  ...  29005700  640.809998\n",
              "2020-01-31  653.000000  632.520020  ...  15719300  650.570007\n",
              "2020-02-03  786.140015  673.520020  ...  47233500  780.000000\n",
              "2020-02-04  968.989990  833.880005  ...  60938800  887.059998\n",
              "2020-02-05  845.979980  704.109985  ...  48423800  734.700012\n",
              "\n",
              "[1030 rows x 6 columns]"
            ]
          },
          "metadata": {
            "tags": []
          },
          "execution_count": 40
        }
      ]
    },
    {
      "cell_type": "code",
      "metadata": {
        "id": "TZoRTTjkufFa",
        "colab_type": "code",
        "colab": {}
      },
      "source": [
        "# shift column by 1 unit\n",
        "f['Close_2'] = f['Close'].shift(1)"
      ],
      "execution_count": 0,
      "outputs": []
    },
    {
      "cell_type": "code",
      "metadata": {
        "id": "7h_l2csBug6t",
        "colab_type": "code",
        "colab": {
          "base_uri": "https://localhost:8080/",
          "height": 450
        },
        "outputId": "c5de78f2-ee01-402f-9da3-db5fa6d2f7af"
      },
      "source": [
        "f"
      ],
      "execution_count": 42,
      "outputs": [
        {
          "output_type": "execute_result",
          "data": {
            "text/html": [
              "<div>\n",
              "<style scoped>\n",
              "    .dataframe tbody tr th:only-of-type {\n",
              "        vertical-align: middle;\n",
              "    }\n",
              "\n",
              "    .dataframe tbody tr th {\n",
              "        vertical-align: top;\n",
              "    }\n",
              "\n",
              "    .dataframe thead th {\n",
              "        text-align: right;\n",
              "    }\n",
              "</style>\n",
              "<table border=\"1\" class=\"dataframe\">\n",
              "  <thead>\n",
              "    <tr style=\"text-align: right;\">\n",
              "      <th></th>\n",
              "      <th>High</th>\n",
              "      <th>Low</th>\n",
              "      <th>Open</th>\n",
              "      <th>Close</th>\n",
              "      <th>Volume</th>\n",
              "      <th>Adj Close</th>\n",
              "      <th>Close_2</th>\n",
              "    </tr>\n",
              "    <tr>\n",
              "      <th>Date</th>\n",
              "      <th></th>\n",
              "      <th></th>\n",
              "      <th></th>\n",
              "      <th></th>\n",
              "      <th></th>\n",
              "      <th></th>\n",
              "      <th></th>\n",
              "    </tr>\n",
              "  </thead>\n",
              "  <tbody>\n",
              "    <tr>\n",
              "      <th>2016-01-04</th>\n",
              "      <td>231.380005</td>\n",
              "      <td>219.000000</td>\n",
              "      <td>230.720001</td>\n",
              "      <td>223.410004</td>\n",
              "      <td>6827100</td>\n",
              "      <td>223.410004</td>\n",
              "      <td>NaN</td>\n",
              "    </tr>\n",
              "    <tr>\n",
              "      <th>2016-01-05</th>\n",
              "      <td>226.889999</td>\n",
              "      <td>220.000000</td>\n",
              "      <td>226.360001</td>\n",
              "      <td>223.429993</td>\n",
              "      <td>3186800</td>\n",
              "      <td>223.429993</td>\n",
              "      <td>223.410004</td>\n",
              "    </tr>\n",
              "    <tr>\n",
              "      <th>2016-01-06</th>\n",
              "      <td>220.050003</td>\n",
              "      <td>215.979996</td>\n",
              "      <td>220.000000</td>\n",
              "      <td>219.039993</td>\n",
              "      <td>3779100</td>\n",
              "      <td>219.039993</td>\n",
              "      <td>223.429993</td>\n",
              "    </tr>\n",
              "    <tr>\n",
              "      <th>2016-01-07</th>\n",
              "      <td>218.440002</td>\n",
              "      <td>213.669998</td>\n",
              "      <td>214.190002</td>\n",
              "      <td>215.649994</td>\n",
              "      <td>3554300</td>\n",
              "      <td>215.649994</td>\n",
              "      <td>219.039993</td>\n",
              "    </tr>\n",
              "    <tr>\n",
              "      <th>2016-01-08</th>\n",
              "      <td>220.440002</td>\n",
              "      <td>210.770004</td>\n",
              "      <td>217.860001</td>\n",
              "      <td>211.000000</td>\n",
              "      <td>3628100</td>\n",
              "      <td>211.000000</td>\n",
              "      <td>215.649994</td>\n",
              "    </tr>\n",
              "    <tr>\n",
              "      <th>...</th>\n",
              "      <td>...</td>\n",
              "      <td>...</td>\n",
              "      <td>...</td>\n",
              "      <td>...</td>\n",
              "      <td>...</td>\n",
              "      <td>...</td>\n",
              "      <td>...</td>\n",
              "    </tr>\n",
              "    <tr>\n",
              "      <th>2020-01-30</th>\n",
              "      <td>650.880005</td>\n",
              "      <td>618.000000</td>\n",
              "      <td>632.419983</td>\n",
              "      <td>640.809998</td>\n",
              "      <td>29005700</td>\n",
              "      <td>640.809998</td>\n",
              "      <td>580.989990</td>\n",
              "    </tr>\n",
              "    <tr>\n",
              "      <th>2020-01-31</th>\n",
              "      <td>653.000000</td>\n",
              "      <td>632.520020</td>\n",
              "      <td>640.000000</td>\n",
              "      <td>650.570007</td>\n",
              "      <td>15719300</td>\n",
              "      <td>650.570007</td>\n",
              "      <td>640.809998</td>\n",
              "    </tr>\n",
              "    <tr>\n",
              "      <th>2020-02-03</th>\n",
              "      <td>786.140015</td>\n",
              "      <td>673.520020</td>\n",
              "      <td>673.690002</td>\n",
              "      <td>780.000000</td>\n",
              "      <td>47233500</td>\n",
              "      <td>780.000000</td>\n",
              "      <td>650.570007</td>\n",
              "    </tr>\n",
              "    <tr>\n",
              "      <th>2020-02-04</th>\n",
              "      <td>968.989990</td>\n",
              "      <td>833.880005</td>\n",
              "      <td>882.960022</td>\n",
              "      <td>887.059998</td>\n",
              "      <td>60938800</td>\n",
              "      <td>887.059998</td>\n",
              "      <td>780.000000</td>\n",
              "    </tr>\n",
              "    <tr>\n",
              "      <th>2020-02-05</th>\n",
              "      <td>845.979980</td>\n",
              "      <td>704.109985</td>\n",
              "      <td>823.260010</td>\n",
              "      <td>734.700012</td>\n",
              "      <td>48423800</td>\n",
              "      <td>734.700012</td>\n",
              "      <td>887.059998</td>\n",
              "    </tr>\n",
              "  </tbody>\n",
              "</table>\n",
              "<p>1030 rows × 7 columns</p>\n",
              "</div>"
            ],
            "text/plain": [
              "                  High         Low  ...   Adj Close     Close_2\n",
              "Date                                ...                        \n",
              "2016-01-04  231.380005  219.000000  ...  223.410004         NaN\n",
              "2016-01-05  226.889999  220.000000  ...  223.429993  223.410004\n",
              "2016-01-06  220.050003  215.979996  ...  219.039993  223.429993\n",
              "2016-01-07  218.440002  213.669998  ...  215.649994  219.039993\n",
              "2016-01-08  220.440002  210.770004  ...  211.000000  215.649994\n",
              "...                ...         ...  ...         ...         ...\n",
              "2020-01-30  650.880005  618.000000  ...  640.809998  580.989990\n",
              "2020-01-31  653.000000  632.520020  ...  650.570007  640.809998\n",
              "2020-02-03  786.140015  673.520020  ...  780.000000  650.570007\n",
              "2020-02-04  968.989990  833.880005  ...  887.059998  780.000000\n",
              "2020-02-05  845.979980  704.109985  ...  734.700012  887.059998\n",
              "\n",
              "[1030 rows x 7 columns]"
            ]
          },
          "metadata": {
            "tags": []
          },
          "execution_count": 42
        }
      ]
    },
    {
      "cell_type": "code",
      "metadata": {
        "id": "hZ5-bgHnujvy",
        "colab_type": "code",
        "colab": {}
      },
      "source": [
        "# drop invalid rows\n",
        "f = f.drop(f.index[0])"
      ],
      "execution_count": 0,
      "outputs": []
    },
    {
      "cell_type": "code",
      "metadata": {
        "id": "Sv0din_gulXC",
        "colab_type": "code",
        "colab": {
          "base_uri": "https://localhost:8080/",
          "height": 450
        },
        "outputId": "934fcb3e-019a-4200-ba5f-10a61766fe2f"
      },
      "source": [
        "f"
      ],
      "execution_count": 44,
      "outputs": [
        {
          "output_type": "execute_result",
          "data": {
            "text/html": [
              "<div>\n",
              "<style scoped>\n",
              "    .dataframe tbody tr th:only-of-type {\n",
              "        vertical-align: middle;\n",
              "    }\n",
              "\n",
              "    .dataframe tbody tr th {\n",
              "        vertical-align: top;\n",
              "    }\n",
              "\n",
              "    .dataframe thead th {\n",
              "        text-align: right;\n",
              "    }\n",
              "</style>\n",
              "<table border=\"1\" class=\"dataframe\">\n",
              "  <thead>\n",
              "    <tr style=\"text-align: right;\">\n",
              "      <th></th>\n",
              "      <th>High</th>\n",
              "      <th>Low</th>\n",
              "      <th>Open</th>\n",
              "      <th>Close</th>\n",
              "      <th>Volume</th>\n",
              "      <th>Adj Close</th>\n",
              "      <th>Close_2</th>\n",
              "    </tr>\n",
              "    <tr>\n",
              "      <th>Date</th>\n",
              "      <th></th>\n",
              "      <th></th>\n",
              "      <th></th>\n",
              "      <th></th>\n",
              "      <th></th>\n",
              "      <th></th>\n",
              "      <th></th>\n",
              "    </tr>\n",
              "  </thead>\n",
              "  <tbody>\n",
              "    <tr>\n",
              "      <th>2016-01-05</th>\n",
              "      <td>226.889999</td>\n",
              "      <td>220.000000</td>\n",
              "      <td>226.360001</td>\n",
              "      <td>223.429993</td>\n",
              "      <td>3186800</td>\n",
              "      <td>223.429993</td>\n",
              "      <td>223.410004</td>\n",
              "    </tr>\n",
              "    <tr>\n",
              "      <th>2016-01-06</th>\n",
              "      <td>220.050003</td>\n",
              "      <td>215.979996</td>\n",
              "      <td>220.000000</td>\n",
              "      <td>219.039993</td>\n",
              "      <td>3779100</td>\n",
              "      <td>219.039993</td>\n",
              "      <td>223.429993</td>\n",
              "    </tr>\n",
              "    <tr>\n",
              "      <th>2016-01-07</th>\n",
              "      <td>218.440002</td>\n",
              "      <td>213.669998</td>\n",
              "      <td>214.190002</td>\n",
              "      <td>215.649994</td>\n",
              "      <td>3554300</td>\n",
              "      <td>215.649994</td>\n",
              "      <td>219.039993</td>\n",
              "    </tr>\n",
              "    <tr>\n",
              "      <th>2016-01-08</th>\n",
              "      <td>220.440002</td>\n",
              "      <td>210.770004</td>\n",
              "      <td>217.860001</td>\n",
              "      <td>211.000000</td>\n",
              "      <td>3628100</td>\n",
              "      <td>211.000000</td>\n",
              "      <td>215.649994</td>\n",
              "    </tr>\n",
              "    <tr>\n",
              "      <th>2016-01-11</th>\n",
              "      <td>214.449997</td>\n",
              "      <td>203.000000</td>\n",
              "      <td>214.009995</td>\n",
              "      <td>207.850006</td>\n",
              "      <td>4091400</td>\n",
              "      <td>207.850006</td>\n",
              "      <td>211.000000</td>\n",
              "    </tr>\n",
              "    <tr>\n",
              "      <th>...</th>\n",
              "      <td>...</td>\n",
              "      <td>...</td>\n",
              "      <td>...</td>\n",
              "      <td>...</td>\n",
              "      <td>...</td>\n",
              "      <td>...</td>\n",
              "      <td>...</td>\n",
              "    </tr>\n",
              "    <tr>\n",
              "      <th>2020-01-30</th>\n",
              "      <td>650.880005</td>\n",
              "      <td>618.000000</td>\n",
              "      <td>632.419983</td>\n",
              "      <td>640.809998</td>\n",
              "      <td>29005700</td>\n",
              "      <td>640.809998</td>\n",
              "      <td>580.989990</td>\n",
              "    </tr>\n",
              "    <tr>\n",
              "      <th>2020-01-31</th>\n",
              "      <td>653.000000</td>\n",
              "      <td>632.520020</td>\n",
              "      <td>640.000000</td>\n",
              "      <td>650.570007</td>\n",
              "      <td>15719300</td>\n",
              "      <td>650.570007</td>\n",
              "      <td>640.809998</td>\n",
              "    </tr>\n",
              "    <tr>\n",
              "      <th>2020-02-03</th>\n",
              "      <td>786.140015</td>\n",
              "      <td>673.520020</td>\n",
              "      <td>673.690002</td>\n",
              "      <td>780.000000</td>\n",
              "      <td>47233500</td>\n",
              "      <td>780.000000</td>\n",
              "      <td>650.570007</td>\n",
              "    </tr>\n",
              "    <tr>\n",
              "      <th>2020-02-04</th>\n",
              "      <td>968.989990</td>\n",
              "      <td>833.880005</td>\n",
              "      <td>882.960022</td>\n",
              "      <td>887.059998</td>\n",
              "      <td>60938800</td>\n",
              "      <td>887.059998</td>\n",
              "      <td>780.000000</td>\n",
              "    </tr>\n",
              "    <tr>\n",
              "      <th>2020-02-05</th>\n",
              "      <td>845.979980</td>\n",
              "      <td>704.109985</td>\n",
              "      <td>823.260010</td>\n",
              "      <td>734.700012</td>\n",
              "      <td>48423800</td>\n",
              "      <td>734.700012</td>\n",
              "      <td>887.059998</td>\n",
              "    </tr>\n",
              "  </tbody>\n",
              "</table>\n",
              "<p>1029 rows × 7 columns</p>\n",
              "</div>"
            ],
            "text/plain": [
              "                  High         Low  ...   Adj Close     Close_2\n",
              "Date                                ...                        \n",
              "2016-01-05  226.889999  220.000000  ...  223.429993  223.410004\n",
              "2016-01-06  220.050003  215.979996  ...  219.039993  223.429993\n",
              "2016-01-07  218.440002  213.669998  ...  215.649994  219.039993\n",
              "2016-01-08  220.440002  210.770004  ...  211.000000  215.649994\n",
              "2016-01-11  214.449997  203.000000  ...  207.850006  211.000000\n",
              "...                ...         ...  ...         ...         ...\n",
              "2020-01-30  650.880005  618.000000  ...  640.809998  580.989990\n",
              "2020-01-31  653.000000  632.520020  ...  650.570007  640.809998\n",
              "2020-02-03  786.140015  673.520020  ...  780.000000  650.570007\n",
              "2020-02-04  968.989990  833.880005  ...  887.059998  780.000000\n",
              "2020-02-05  845.979980  704.109985  ...  734.700012  887.059998\n",
              "\n",
              "[1029 rows x 7 columns]"
            ]
          },
          "metadata": {
            "tags": []
          },
          "execution_count": 44
        }
      ]
    },
    {
      "cell_type": "code",
      "metadata": {
        "id": "xAvTtYMPuo3y",
        "colab_type": "code",
        "colab": {}
      },
      "source": [
        "# calculate return\n",
        "f['Return'] = (f['Close'] - f['Close_2'])/f['Close_2']"
      ],
      "execution_count": 0,
      "outputs": []
    },
    {
      "cell_type": "code",
      "metadata": {
        "id": "LNqrU9cXupp6",
        "colab_type": "code",
        "colab": {
          "base_uri": "https://localhost:8080/",
          "height": 450
        },
        "outputId": "bc3cc7e8-5fab-4a66-f9a2-4348a28641e0"
      },
      "source": [
        "f"
      ],
      "execution_count": 46,
      "outputs": [
        {
          "output_type": "execute_result",
          "data": {
            "text/html": [
              "<div>\n",
              "<style scoped>\n",
              "    .dataframe tbody tr th:only-of-type {\n",
              "        vertical-align: middle;\n",
              "    }\n",
              "\n",
              "    .dataframe tbody tr th {\n",
              "        vertical-align: top;\n",
              "    }\n",
              "\n",
              "    .dataframe thead th {\n",
              "        text-align: right;\n",
              "    }\n",
              "</style>\n",
              "<table border=\"1\" class=\"dataframe\">\n",
              "  <thead>\n",
              "    <tr style=\"text-align: right;\">\n",
              "      <th></th>\n",
              "      <th>High</th>\n",
              "      <th>Low</th>\n",
              "      <th>Open</th>\n",
              "      <th>Close</th>\n",
              "      <th>Volume</th>\n",
              "      <th>Adj Close</th>\n",
              "      <th>Close_2</th>\n",
              "      <th>Return</th>\n",
              "    </tr>\n",
              "    <tr>\n",
              "      <th>Date</th>\n",
              "      <th></th>\n",
              "      <th></th>\n",
              "      <th></th>\n",
              "      <th></th>\n",
              "      <th></th>\n",
              "      <th></th>\n",
              "      <th></th>\n",
              "      <th></th>\n",
              "    </tr>\n",
              "  </thead>\n",
              "  <tbody>\n",
              "    <tr>\n",
              "      <th>2016-01-05</th>\n",
              "      <td>226.889999</td>\n",
              "      <td>220.000000</td>\n",
              "      <td>226.360001</td>\n",
              "      <td>223.429993</td>\n",
              "      <td>3186800</td>\n",
              "      <td>223.429993</td>\n",
              "      <td>223.410004</td>\n",
              "      <td>0.000089</td>\n",
              "    </tr>\n",
              "    <tr>\n",
              "      <th>2016-01-06</th>\n",
              "      <td>220.050003</td>\n",
              "      <td>215.979996</td>\n",
              "      <td>220.000000</td>\n",
              "      <td>219.039993</td>\n",
              "      <td>3779100</td>\n",
              "      <td>219.039993</td>\n",
              "      <td>223.429993</td>\n",
              "      <td>-0.019648</td>\n",
              "    </tr>\n",
              "    <tr>\n",
              "      <th>2016-01-07</th>\n",
              "      <td>218.440002</td>\n",
              "      <td>213.669998</td>\n",
              "      <td>214.190002</td>\n",
              "      <td>215.649994</td>\n",
              "      <td>3554300</td>\n",
              "      <td>215.649994</td>\n",
              "      <td>219.039993</td>\n",
              "      <td>-0.015477</td>\n",
              "    </tr>\n",
              "    <tr>\n",
              "      <th>2016-01-08</th>\n",
              "      <td>220.440002</td>\n",
              "      <td>210.770004</td>\n",
              "      <td>217.860001</td>\n",
              "      <td>211.000000</td>\n",
              "      <td>3628100</td>\n",
              "      <td>211.000000</td>\n",
              "      <td>215.649994</td>\n",
              "      <td>-0.021563</td>\n",
              "    </tr>\n",
              "    <tr>\n",
              "      <th>2016-01-11</th>\n",
              "      <td>214.449997</td>\n",
              "      <td>203.000000</td>\n",
              "      <td>214.009995</td>\n",
              "      <td>207.850006</td>\n",
              "      <td>4091400</td>\n",
              "      <td>207.850006</td>\n",
              "      <td>211.000000</td>\n",
              "      <td>-0.014929</td>\n",
              "    </tr>\n",
              "    <tr>\n",
              "      <th>...</th>\n",
              "      <td>...</td>\n",
              "      <td>...</td>\n",
              "      <td>...</td>\n",
              "      <td>...</td>\n",
              "      <td>...</td>\n",
              "      <td>...</td>\n",
              "      <td>...</td>\n",
              "      <td>...</td>\n",
              "    </tr>\n",
              "    <tr>\n",
              "      <th>2020-01-30</th>\n",
              "      <td>650.880005</td>\n",
              "      <td>618.000000</td>\n",
              "      <td>632.419983</td>\n",
              "      <td>640.809998</td>\n",
              "      <td>29005700</td>\n",
              "      <td>640.809998</td>\n",
              "      <td>580.989990</td>\n",
              "      <td>0.102962</td>\n",
              "    </tr>\n",
              "    <tr>\n",
              "      <th>2020-01-31</th>\n",
              "      <td>653.000000</td>\n",
              "      <td>632.520020</td>\n",
              "      <td>640.000000</td>\n",
              "      <td>650.570007</td>\n",
              "      <td>15719300</td>\n",
              "      <td>650.570007</td>\n",
              "      <td>640.809998</td>\n",
              "      <td>0.015231</td>\n",
              "    </tr>\n",
              "    <tr>\n",
              "      <th>2020-02-03</th>\n",
              "      <td>786.140015</td>\n",
              "      <td>673.520020</td>\n",
              "      <td>673.690002</td>\n",
              "      <td>780.000000</td>\n",
              "      <td>47233500</td>\n",
              "      <td>780.000000</td>\n",
              "      <td>650.570007</td>\n",
              "      <td>0.198949</td>\n",
              "    </tr>\n",
              "    <tr>\n",
              "      <th>2020-02-04</th>\n",
              "      <td>968.989990</td>\n",
              "      <td>833.880005</td>\n",
              "      <td>882.960022</td>\n",
              "      <td>887.059998</td>\n",
              "      <td>60938800</td>\n",
              "      <td>887.059998</td>\n",
              "      <td>780.000000</td>\n",
              "      <td>0.137256</td>\n",
              "    </tr>\n",
              "    <tr>\n",
              "      <th>2020-02-05</th>\n",
              "      <td>845.979980</td>\n",
              "      <td>704.109985</td>\n",
              "      <td>823.260010</td>\n",
              "      <td>734.700012</td>\n",
              "      <td>48423800</td>\n",
              "      <td>734.700012</td>\n",
              "      <td>887.059998</td>\n",
              "      <td>-0.171758</td>\n",
              "    </tr>\n",
              "  </tbody>\n",
              "</table>\n",
              "<p>1029 rows × 8 columns</p>\n",
              "</div>"
            ],
            "text/plain": [
              "                  High         Low  ...     Close_2    Return\n",
              "Date                                ...                      \n",
              "2016-01-05  226.889999  220.000000  ...  223.410004  0.000089\n",
              "2016-01-06  220.050003  215.979996  ...  223.429993 -0.019648\n",
              "2016-01-07  218.440002  213.669998  ...  219.039993 -0.015477\n",
              "2016-01-08  220.440002  210.770004  ...  215.649994 -0.021563\n",
              "2016-01-11  214.449997  203.000000  ...  211.000000 -0.014929\n",
              "...                ...         ...  ...         ...       ...\n",
              "2020-01-30  650.880005  618.000000  ...  580.989990  0.102962\n",
              "2020-01-31  653.000000  632.520020  ...  640.809998  0.015231\n",
              "2020-02-03  786.140015  673.520020  ...  650.570007  0.198949\n",
              "2020-02-04  968.989990  833.880005  ...  780.000000  0.137256\n",
              "2020-02-05  845.979980  704.109985  ...  887.059998 -0.171758\n",
              "\n",
              "[1029 rows x 8 columns]"
            ]
          },
          "metadata": {
            "tags": []
          },
          "execution_count": 46
        }
      ]
    },
    {
      "cell_type": "markdown",
      "metadata": {
        "id": "4imTdp11usUZ",
        "colab_type": "text"
      },
      "source": [
        "The plot() function will return the plot of given series, whereas hist() will give a histogram.\n"
      ]
    },
    {
      "cell_type": "code",
      "metadata": {
        "id": "j10l5EJeutQp",
        "colab_type": "code",
        "colab": {
          "base_uri": "https://localhost:8080/",
          "height": 301
        },
        "outputId": "82095893-70f4-493c-d068-eae4ec22ff49"
      },
      "source": [
        "f['Return'].hist(bins=100) #use parameter to define number of bins\n"
      ],
      "execution_count": 47,
      "outputs": [
        {
          "output_type": "execute_result",
          "data": {
            "text/plain": [
              "<matplotlib.axes._subplots.AxesSubplot at 0x7f0ca603be80>"
            ]
          },
          "metadata": {
            "tags": []
          },
          "execution_count": 47
        },
        {
          "output_type": "display_data",
          "data": {
            "image/png": "[encoded data removed]",
            "text/plain": [
              "<Figure size 432x288 with 1 Axes>"
            ]
          },
          "metadata": {
            "tags": []
          }
        }
      ]
    },
    {
      "cell_type": "markdown",
      "metadata": {
        "id": "KE4cmNMduyHo",
        "colab_type": "text"
      },
      "source": [
        "## VAR calculated from historical method\n",
        "\n",
        "The historical method of estimating VAR is based on the actual periodic changes in the risk factors over a lookback period. By ordering return values from the most negative to most positive, we can find the lowest 5% of daily returns (since the returns are ordered from left to right, the worst are always the \"left tail\").\n",
        "\n",
        "**numpy.percentile** computes the qth percentile of the data along the specified axis.\n"
      ]
    },
    {
      "cell_type": "code",
      "metadata": {
        "id": "1s1jbUWdu4Ry",
        "colab_type": "code",
        "colab": {
          "base_uri": "https://localhost:8080/",
          "height": 34
        },
        "outputId": "02a0d24d-05c2-4657-c8d6-5c81187267f0"
      },
      "source": [
        "numpy.percentile(f['Return'], 5)\n"
      ],
      "execution_count": 48,
      "outputs": [
        {
          "output_type": "execute_result",
          "data": {
            "text/plain": [
              "-0.04208452338277235"
            ]
          },
          "metadata": {
            "tags": []
          },
          "execution_count": 48
        }
      ]
    },
    {
      "cell_type": "markdown",
      "metadata": {
        "id": "qa5ktnu3u9RZ",
        "colab_type": "text"
      },
      "source": [
        "# VAR calculated from variance\n",
        "The second methond we are going to use is the variance methond. Often we assume that the risk factors are distributed normally. Assuming normally allows us to estimate the risk based only on means and variances.\n",
        "For a given stock, if the return is normally distributed with mean $\\mu$ and standard deviation $\\sigma$ (square root of variance), the VAR can be obtained as below:\n",
        "\n",
        "$$VAR = \\mu - \\alpha * \\sigma$$\n",
        "where $\\alpha$ is determined by confidence level:\n",
        "* c = 95%, $\\alpha$ = 1.65\n",
        "**bold text**\n",
        "numpy.mean() computes the mean value of a series, **numpy.std()** computes the standard deviation of a series."
      ]
    },
    {
      "cell_type": "code",
      "metadata": {
        "id": "RfzhnXcdvMiK",
        "colab_type": "code",
        "colab": {
          "base_uri": "https://localhost:8080/",
          "height": 34
        },
        "outputId": "ca899d4e-f99d-45f7-ab5f-7f75e4ce3a80"
      },
      "source": [
        "numpy.mean(f['Return']) - 1.65*numpy.std(f['Return'])\n"
      ],
      "execution_count": 49,
      "outputs": [
        {
          "output_type": "execute_result",
          "data": {
            "text/plain": [
              "-0.04916212472080247"
            ]
          },
          "metadata": {
            "tags": []
          },
          "execution_count": 49
        }
      ]
    }
  ]
}