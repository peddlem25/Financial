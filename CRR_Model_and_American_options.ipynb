{
  "nbformat": 4,
  "nbformat_minor": 0,
  "metadata": {
    "colab": {
      "name": "CRR-Model-and-American-options.ipynb",
      "provenance": [],
      "collapsed_sections": []
    },
    "kernelspec": {
      "name": "python3",
      "display_name": "Python 3"
    }
  },
  "cells": [
    {
      "cell_type": "code",
      "metadata": {
        "id": "TTsz4rYy4_cE",
        "colab_type": "code",
        "colab": {}
      },
      "source": [
        "import numpy as np\n",
        "from math import *\n",
        "import matplotlib.pyplot as plt"
      ],
      "execution_count": 0,
      "outputs": []
    },
    {
      "cell_type": "code",
      "metadata": {
        "id": "9yO-Udqq5CxR",
        "colab_type": "code",
        "colab": {}
      },
      "source": [
        "class BinomialCRROption(object):\n",
        "    def __init__(self, S0, K, r, T, n, sigma, is_call, is_european):\n",
        "        self.S0 = S0\n",
        "        self.K = K\n",
        "        self.r = r\n",
        "        self.T = T\n",
        "        self.n = n \n",
        "        self.sigma = sigma\n",
        "        self.is_call = is_call\n",
        "        self.is_european = is_european\n",
        "\n",
        "        '''Computed Values'''\n",
        "        self.u = exp(sigma*sqrt(T/n))\n",
        "        self.d = 1/self.u\n",
        "        self.qu = (exp(r*T/n)-self.d)/(self.u-self.d)\n",
        "        self.qd = 1-self.qu\n",
        "        self.df = exp(-r * T/n)\n",
        "    \n",
        "    def _initialize_stock_price_tree_(self):   \n",
        "        stocktree = np.zeros([self.n+1, self.n+1])\n",
        "        for i in range(self.n+1):\n",
        "            for j in range(self.n+1):\n",
        "                if j <= i:\n",
        "                    stocktree[i, j] = self.S0*(self.d**(i-j))*(self.u**j)\n",
        "        return stocktree\n",
        "    \n",
        "    def stock_price_tree(self):\n",
        "        tree = self._initialize_stock_price_tree_()\n",
        "        return tree\n",
        "    \n",
        "    def _initialize_european_option_price_tree_(self):\n",
        "        stock_tree = self._initialize_stock_price_tree_()\n",
        "        eur_price_tree = np.zeros([self.n+1,self.n+1])\n",
        "        eur_price_tree[self.n] = (stock_tree[self.n]-self.K).clip(min=0) if self.is_call else (self.K-stock_tree[n]).clip(min=0)\n",
        "        for i in reversed(range(self.n)):\n",
        "            for j in reversed(range(self.n)):\n",
        "                if j<=i:\n",
        "                    eur_price_tree[i,j] = (eur_price_tree[i+1,j+1]*self.qu + eur_price_tree[i+1,j]*self.qd)*self.df\n",
        "        return eur_price_tree\n",
        "    \n",
        "    def _initialize_american_option_price_tree_(self):\n",
        "        stock_tree = self._initialize_stock_price_tree_()\n",
        "        exercise_pts = []\n",
        "        amr_price_tree = np.zeros([self.n+1,self.n+1])\n",
        "        amr_price_tree[self.n] = (stock_tree[self.n]-self.K).clip(min=0) if self.is_call else (self.K-stock_tree[self.n]).clip(min=0)\n",
        "        for i in reversed(range(self.n)):\n",
        "            for j in reversed(range(self.n)):\n",
        "                if j<=i:\n",
        "                    amr_payoff = (stock_tree[i,j]-self.K) if self.is_call else (self.K-stock_tree[i,j])\n",
        "                    amr_price_tree[i,j] = max((amr_price_tree[i+1,j+1]*self.qu + amr_price_tree[i+1,j]*self.qd)*self.df,amr_payoff)\n",
        "                    if (amr_price_tree[i+1,j+1]*self.qu + amr_price_tree[i+1,j]*self.qd)*self.df < amr_payoff:\n",
        "                        exercise_pts.append((i,j,stock_tree[i,j],amr_price_tree[i,j]))\n",
        "        \n",
        "        # handling terminal points for EPA\n",
        "        for i in range(self.n):\n",
        "            if (amr_price_tree[self.n-1][i]!=0) & (float(self.r)!=float(0.0)):\n",
        "                exercise_pts.append((self.n,i,stock_tree[self.n,i],amr_price_tree[self.n,i]))\n",
        "        \n",
        "        return amr_price_tree, exercise_pts\n",
        "    \n",
        "    def price(self):\n",
        "        if self.is_european:\n",
        "            p = self._initialize_european_option_price_tree_()[0][0]\n",
        "        else:\n",
        "            p = self._initialize_american_option_price_tree_()[0][0][0]\n",
        "        return p\n",
        "            \n",
        "    def option_price_tree(self):\n",
        "        if self.is_european:\n",
        "            p_tree = self._initialize_european_option_price_tree_()\n",
        "        else:\n",
        "            p_tree = self._initialize_american_option_price_tree_()[0]\n",
        "        return p_tree\n",
        "    \n",
        "    def exercise_frontier(self):\n",
        "        stock_tree = self._initialize_stock_price_tree_()\n",
        "        if self.is_european:\n",
        "            return(\"Only possible for American Options\")\n",
        "        \n",
        "        exercise_pts = self._initialize_american_option_price_tree_()[1]\n",
        "        x = []\n",
        "        for i in range(self.n+1):\n",
        "            x.extend([i]*(i+1)) \n",
        "\n",
        "        y = []\n",
        "        for i in range(len(stock_tree)):\n",
        "            y.extend(stock_tree[i][stock_tree[i] != 0]) \n",
        "\n",
        "        x_co_ordinates = [i[0] for i in exercise_pts]\n",
        "        y_co_ordinates = [i[2] for i in exercise_pts]    \n",
        "\n",
        "        plt.scatter(x,y,color=\"blue\")\n",
        "        plt.scatter(x_co_ordinates,y_co_ordinates,color=\"red\")\n",
        "        plt.xlabel('Steps')\n",
        "        plt.ylabel('Stock Price')\n",
        "        plt.legend([\"Early Exercise\",\"No Early Exercise\"],loc=\"upper left\")\n",
        "        \n",
        "        EPA = np.zeros([self.n+1,self.n+1])\n",
        "        ex_cood = [[i[0],i[1]] for i in exercise_pts]\n",
        "        for i in ex_cood:\n",
        "            EPA[i[0],i[1]] = 1\n",
        "            \n",
        "        return EPA"
      ],
      "execution_count": 0,
      "outputs": []
    },
    {
      "cell_type": "markdown",
      "metadata": {
        "id": "HHIZP6rP5J2x",
        "colab_type": "text"
      },
      "source": [
        "# Effect of increasing r on Exercise Frontier¶\n"
      ]
    },
    {
      "cell_type": "code",
      "metadata": {
        "id": "eIc_q5bj5Gsb",
        "colab_type": "code",
        "colab": {
          "base_uri": "https://localhost:8080/",
          "height": 502
        },
        "outputId": "052d8884-c2ac-4292-fdb2-8f0683952bb1"
      },
      "source": [
        "option = BinomialCRROption(S0=50, K=52, r=0.0, T=1, n=11, sigma=0.3, is_call=False, is_european=False)\n",
        "print(option.price())\n",
        "#print(option.option_price_tree())\n",
        "option.exercise_frontier()"
      ],
      "execution_count": 3,
      "outputs": [
        {
          "output_type": "stream",
          "text": [
            "7.21849041410787\n"
          ],
          "name": "stdout"
        },
        {
          "output_type": "execute_result",
          "data": {
            "text/plain": [
              "array([[0., 0., 0., 0., 0., 0., 0., 0., 0., 0., 0., 0.],\n",
              "       [0., 0., 0., 0., 0., 0., 0., 0., 0., 0., 0., 0.],\n",
              "       [0., 0., 0., 0., 0., 0., 0., 0., 0., 0., 0., 0.],\n",
              "       [0., 0., 0., 0., 0., 0., 0., 0., 0., 0., 0., 0.],\n",
              "       [0., 0., 0., 0., 0., 0., 0., 0., 0., 0., 0., 0.],\n",
              "       [0., 0., 0., 0., 0., 0., 0., 0., 0., 0., 0., 0.],\n",
              "       [0., 0., 0., 0., 0., 0., 0., 0., 0., 0., 0., 0.],\n",
              "       [0., 0., 0., 0., 0., 0., 0., 0., 0., 0., 0., 0.],\n",
              "       [0., 0., 0., 0., 0., 0., 0., 0., 0., 0., 0., 0.],\n",
              "       [0., 0., 0., 0., 0., 0., 0., 0., 0., 0., 0., 0.],\n",
              "       [0., 0., 0., 0., 0., 0., 0., 0., 0., 0., 0., 0.],\n",
              "       [0., 0., 0., 0., 0., 0., 0., 0., 0., 0., 0., 0.]])"
            ]
          },
          "metadata": {
            "tags": []
          },
          "execution_count": 3
        },
        {
          "output_type": "display_data",
          "data": {
            "image/png": "[encoded data removed]",
            "text/plain": [
              "<Figure size 432x288 with 1 Axes>"
            ]
          },
          "metadata": {
            "tags": []
          }
        }
      ]
    },
    {
      "cell_type": "code",
      "metadata": {
        "id": "sz8qzUSs5Man",
        "colab_type": "code",
        "colab": {
          "base_uri": "https://localhost:8080/",
          "height": 502
        },
        "outputId": "6b2039cb-bc5c-4951-a498-bf0956542e6b"
      },
      "source": [
        "option = BinomialCRROption(S0=50, K=52, r=0.01, T=1, n=11, sigma=0.3, is_call=False, is_european=False)\n",
        "print(option.price())\n",
        "#print(option.option_price_tree())\n",
        "option.exercise_frontier()"
      ],
      "execution_count": 4,
      "outputs": [
        {
          "output_type": "stream",
          "text": [
            "6.953855742132798\n"
          ],
          "name": "stdout"
        },
        {
          "output_type": "execute_result",
          "data": {
            "text/plain": [
              "array([[0., 0., 0., 0., 0., 0., 0., 0., 0., 0., 0., 0.],\n",
              "       [0., 0., 0., 0., 0., 0., 0., 0., 0., 0., 0., 0.],\n",
              "       [0., 0., 0., 0., 0., 0., 0., 0., 0., 0., 0., 0.],\n",
              "       [0., 0., 0., 0., 0., 0., 0., 0., 0., 0., 0., 0.],\n",
              "       [0., 0., 0., 0., 0., 0., 0., 0., 0., 0., 0., 0.],\n",
              "       [1., 0., 0., 0., 0., 0., 0., 0., 0., 0., 0., 0.],\n",
              "       [1., 1., 0., 0., 0., 0., 0., 0., 0., 0., 0., 0.],\n",
              "       [1., 1., 0., 0., 0., 0., 0., 0., 0., 0., 0., 0.],\n",
              "       [1., 1., 1., 0., 0., 0., 0., 0., 0., 0., 0., 0.],\n",
              "       [1., 1., 1., 1., 0., 0., 0., 0., 0., 0., 0., 0.],\n",
              "       [1., 1., 1., 1., 1., 0., 0., 0., 0., 0., 0., 0.],\n",
              "       [1., 1., 1., 1., 1., 1., 0., 0., 0., 0., 0., 0.]])"
            ]
          },
          "metadata": {
            "tags": []
          },
          "execution_count": 4
        },
        {
          "output_type": "display_data",
          "data": {
            "image/png": "[encoded data removed]",
            "text/plain": [
              "<Figure size 432x288 with 1 Axes>"
            ]
          },
          "metadata": {
            "tags": []
          }
        }
      ]
    },
    {
      "cell_type": "code",
      "metadata": {
        "id": "Ya-W0nZ45RJh",
        "colab_type": "code",
        "colab": {
          "base_uri": "https://localhost:8080/",
          "height": 502
        },
        "outputId": "b286f899-045b-49af-f86b-3cb58b6cfcc2"
      },
      "source": [
        "option = BinomialCRROption(S0=50, K=52, r=0.10, T=1, n=11, sigma=0.3, is_call=False, is_european=False)\n",
        "print(option.price())\n",
        "#print(option.option_price_tree())\n",
        "option.exercise_frontier()"
      ],
      "execution_count": 5,
      "outputs": [
        {
          "output_type": "stream",
          "text": [
            "5.168447180758061\n"
          ],
          "name": "stdout"
        },
        {
          "output_type": "execute_result",
          "data": {
            "text/plain": [
              "array([[0., 0., 0., 0., 0., 0., 0., 0., 0., 0., 0., 0.],\n",
              "       [0., 0., 0., 0., 0., 0., 0., 0., 0., 0., 0., 0.],\n",
              "       [0., 0., 0., 0., 0., 0., 0., 0., 0., 0., 0., 0.],\n",
              "       [1., 0., 0., 0., 0., 0., 0., 0., 0., 0., 0., 0.],\n",
              "       [1., 1., 0., 0., 0., 0., 0., 0., 0., 0., 0., 0.],\n",
              "       [1., 1., 0., 0., 0., 0., 0., 0., 0., 0., 0., 0.],\n",
              "       [1., 1., 1., 0., 0., 0., 0., 0., 0., 0., 0., 0.],\n",
              "       [1., 1., 1., 0., 0., 0., 0., 0., 0., 0., 0., 0.],\n",
              "       [1., 1., 1., 1., 0., 0., 0., 0., 0., 0., 0., 0.],\n",
              "       [1., 1., 1., 1., 0., 0., 0., 0., 0., 0., 0., 0.],\n",
              "       [1., 1., 1., 1., 1., 0., 0., 0., 0., 0., 0., 0.],\n",
              "       [1., 1., 1., 1., 1., 1., 0., 0., 0., 0., 0., 0.]])"
            ]
          },
          "metadata": {
            "tags": []
          },
          "execution_count": 5
        },
        {
          "output_type": "display_data",
          "data": {
            "image/png": "[encoded data removed]",
            "text/plain": [
              "<Figure size 432x288 with 1 Axes>"
            ]
          },
          "metadata": {
            "tags": []
          }
        }
      ]
    },
    {
      "cell_type": "markdown",
      "metadata": {
        "id": "V3IbaE6F5Thj",
        "colab_type": "text"
      },
      "source": [
        "# Effect of increasing n on Exercise Frontier¶\n"
      ]
    },
    {
      "cell_type": "code",
      "metadata": {
        "id": "GnafazK75UW9",
        "colab_type": "code",
        "colab": {
          "base_uri": "https://localhost:8080/",
          "height": 398
        },
        "outputId": "3f737c8f-3931-4e48-b2d6-2eb4202f19d5"
      },
      "source": [
        "option = BinomialCRROption(S0=50, K=52, r=0.05, T=1, n=5, sigma=0.3, is_call=False, is_european=False)\n",
        "print(option.price())\n",
        "#print(option.option_price_tree())\n",
        "option.exercise_frontier()"
      ],
      "execution_count": 6,
      "outputs": [
        {
          "output_type": "stream",
          "text": [
            "6.170487868982785\n"
          ],
          "name": "stdout"
        },
        {
          "output_type": "execute_result",
          "data": {
            "text/plain": [
              "array([[0., 0., 0., 0., 0., 0.],\n",
              "       [0., 0., 0., 0., 0., 0.],\n",
              "       [1., 0., 0., 0., 0., 0.],\n",
              "       [1., 0., 0., 0., 0., 0.],\n",
              "       [1., 1., 0., 0., 0., 0.],\n",
              "       [1., 1., 1., 0., 0., 0.]])"
            ]
          },
          "metadata": {
            "tags": []
          },
          "execution_count": 6
        },
        {
          "output_type": "display_data",
          "data": {
            "image/png": "[encoded data removed]",
            "text/plain": [
              "<Figure size 432x288 with 1 Axes>"
            ]
          },
          "metadata": {
            "tags": []
          }
        }
      ]
    },
    {
      "cell_type": "code",
      "metadata": {
        "id": "Cu_0Maq-5Zdb",
        "colab_type": "code",
        "colab": {
          "base_uri": "https://localhost:8080/",
          "height": 483
        },
        "outputId": "fbe13508-4dd9-47c7-e484-de70c6772980"
      },
      "source": [
        "option = BinomialCRROption(S0=50, K=52, r=0.05, T=1, n=10, sigma=0.3, is_call=False, is_european=False)\n",
        "print(option.price())\n",
        "#print(option.option_price_tree())\n",
        "option.exercise_frontier()"
      ],
      "execution_count": 7,
      "outputs": [
        {
          "output_type": "stream",
          "text": [
            "6.072891946432653\n"
          ],
          "name": "stdout"
        },
        {
          "output_type": "execute_result",
          "data": {
            "text/plain": [
              "array([[0., 0., 0., 0., 0., 0., 0., 0., 0., 0., 0.],\n",
              "       [0., 0., 0., 0., 0., 0., 0., 0., 0., 0., 0.],\n",
              "       [0., 0., 0., 0., 0., 0., 0., 0., 0., 0., 0.],\n",
              "       [1., 0., 0., 0., 0., 0., 0., 0., 0., 0., 0.],\n",
              "       [1., 0., 0., 0., 0., 0., 0., 0., 0., 0., 0.],\n",
              "       [1., 1., 0., 0., 0., 0., 0., 0., 0., 0., 0.],\n",
              "       [1., 1., 0., 0., 0., 0., 0., 0., 0., 0., 0.],\n",
              "       [1., 1., 1., 0., 0., 0., 0., 0., 0., 0., 0.],\n",
              "       [1., 1., 1., 1., 0., 0., 0., 0., 0., 0., 0.],\n",
              "       [1., 1., 1., 1., 1., 0., 0., 0., 0., 0., 0.],\n",
              "       [1., 1., 1., 1., 1., 1., 0., 0., 0., 0., 0.]])"
            ]
          },
          "metadata": {
            "tags": []
          },
          "execution_count": 7
        },
        {
          "output_type": "display_data",
          "data": {
            "image/png": "[encoded data removed]",
            "text/plain": [
              "<Figure size 432x288 with 1 Axes>"
            ]
          },
          "metadata": {
            "tags": []
          }
        }
      ]
    },
    {
      "cell_type": "code",
      "metadata": {
        "id": "dreR670x5cOH",
        "colab_type": "code",
        "colab": {
          "base_uri": "https://localhost:8080/",
          "height": 1000
        },
        "outputId": "18a8e671-71b9-4910-a149-8b072f4ebaad"
      },
      "source": [
        "option = BinomialCRROption(S0=50, K=52, r=0.05, T=1, n=20, sigma=0.3, is_call=False, is_european=False)\n",
        "print(option.price())\n",
        "#print(option.option_price_tree())\n",
        "option.exercise_frontier()"
      ],
      "execution_count": 8,
      "outputs": [
        {
          "output_type": "stream",
          "text": [
            "6.051638196517902\n"
          ],
          "name": "stdout"
        },
        {
          "output_type": "execute_result",
          "data": {
            "text/plain": [
              "array([[0., 0., 0., 0., 0., 0., 0., 0., 0., 0., 0., 0., 0., 0., 0., 0.,\n",
              "        0., 0., 0., 0., 0.],\n",
              "       [0., 0., 0., 0., 0., 0., 0., 0., 0., 0., 0., 0., 0., 0., 0., 0.,\n",
              "        0., 0., 0., 0., 0.],\n",
              "       [0., 0., 0., 0., 0., 0., 0., 0., 0., 0., 0., 0., 0., 0., 0., 0.,\n",
              "        0., 0., 0., 0., 0.],\n",
              "       [0., 0., 0., 0., 0., 0., 0., 0., 0., 0., 0., 0., 0., 0., 0., 0.,\n",
              "        0., 0., 0., 0., 0.],\n",
              "       [0., 0., 0., 0., 0., 0., 0., 0., 0., 0., 0., 0., 0., 0., 0., 0.,\n",
              "        0., 0., 0., 0., 0.],\n",
              "       [1., 0., 0., 0., 0., 0., 0., 0., 0., 0., 0., 0., 0., 0., 0., 0.,\n",
              "        0., 0., 0., 0., 0.],\n",
              "       [1., 1., 0., 0., 0., 0., 0., 0., 0., 0., 0., 0., 0., 0., 0., 0.,\n",
              "        0., 0., 0., 0., 0.],\n",
              "       [1., 1., 0., 0., 0., 0., 0., 0., 0., 0., 0., 0., 0., 0., 0., 0.,\n",
              "        0., 0., 0., 0., 0.],\n",
              "       [1., 1., 1., 0., 0., 0., 0., 0., 0., 0., 0., 0., 0., 0., 0., 0.,\n",
              "        0., 0., 0., 0., 0.],\n",
              "       [1., 1., 1., 0., 0., 0., 0., 0., 0., 0., 0., 0., 0., 0., 0., 0.,\n",
              "        0., 0., 0., 0., 0.],\n",
              "       [1., 1., 1., 1., 0., 0., 0., 0., 0., 0., 0., 0., 0., 0., 0., 0.,\n",
              "        0., 0., 0., 0., 0.],\n",
              "       [1., 1., 1., 1., 0., 0., 0., 0., 0., 0., 0., 0., 0., 0., 0., 0.,\n",
              "        0., 0., 0., 0., 0.],\n",
              "       [1., 1., 1., 1., 1., 0., 0., 0., 0., 0., 0., 0., 0., 0., 0., 0.,\n",
              "        0., 0., 0., 0., 0.],\n",
              "       [1., 1., 1., 1., 1., 1., 0., 0., 0., 0., 0., 0., 0., 0., 0., 0.,\n",
              "        0., 0., 0., 0., 0.],\n",
              "       [1., 1., 1., 1., 1., 1., 0., 0., 0., 0., 0., 0., 0., 0., 0., 0.,\n",
              "        0., 0., 0., 0., 0.],\n",
              "       [1., 1., 1., 1., 1., 1., 1., 0., 0., 0., 0., 0., 0., 0., 0., 0.,\n",
              "        0., 0., 0., 0., 0.],\n",
              "       [1., 1., 1., 1., 1., 1., 1., 0., 0., 0., 0., 0., 0., 0., 0., 0.,\n",
              "        0., 0., 0., 0., 0.],\n",
              "       [1., 1., 1., 1., 1., 1., 1., 1., 0., 0., 0., 0., 0., 0., 0., 0.,\n",
              "        0., 0., 0., 0., 0.],\n",
              "       [1., 1., 1., 1., 1., 1., 1., 1., 1., 0., 0., 0., 0., 0., 0., 0.,\n",
              "        0., 0., 0., 0., 0.],\n",
              "       [1., 1., 1., 1., 1., 1., 1., 1., 1., 1., 0., 0., 0., 0., 0., 0.,\n",
              "        0., 0., 0., 0., 0.],\n",
              "       [1., 1., 1., 1., 1., 1., 1., 1., 1., 1., 1., 0., 0., 0., 0., 0.,\n",
              "        0., 0., 0., 0., 0.]])"
            ]
          },
          "metadata": {
            "tags": []
          },
          "execution_count": 8
        },
        {
          "output_type": "display_data",
          "data": {
            "image/png": "[encoded data removed]",
            "text/plain": [
              "<Figure size 432x288 with 1 Axes>"
            ]
          },
          "metadata": {
            "tags": []
          }
        }
      ]
    },
    {
      "cell_type": "markdown",
      "metadata": {
        "id": "pWPm6nyB5mk7",
        "colab_type": "text"
      },
      "source": [
        "# Finite Differences"
      ]
    },
    {
      "cell_type": "code",
      "metadata": {
        "id": "6I78TQv85tCy",
        "colab_type": "code",
        "colab": {}
      },
      "source": [
        "import numpy as np\n",
        "import pylab\n",
        "import matplotlib.pyplot as plt\n",
        "import time\n",
        "\n",
        "K = 100\n",
        "Smax = 200\n",
        "T = 1.0\n",
        "sigma = 0.2\n",
        "r = 0.1\n",
        "M = 35\n",
        "N = 20\n",
        "h = Smax/(M+1.0)\n",
        "\n",
        "#xj matrix\n",
        "xj = np.zeros(M+2)\n",
        "for j in range(0, M+2):\n",
        "    xj[j] = j*h\n",
        "\n",
        "delta_t = T/float(N)\n",
        "t = np.zeros(N+1)\n",
        "for j in range(0,N+1):\n",
        "    t[j] = j*delta_t"
      ],
      "execution_count": 0,
      "outputs": []
    },
    {
      "cell_type": "code",
      "metadata": {
        "id": "2d8uqkSc5xDi",
        "colab_type": "code",
        "colab": {}
      },
      "source": [
        "#A matrix - we get a tridiagonal matrix\n",
        "A = np.zeros((M+2,M+2))\n",
        "for i in range(M+2):\n",
        "    if i>0:\n",
        "        A[i][i-1] = - (sigma*sigma)*(xj[i]*xj[i])/float(2*(h*h))\n",
        "    A[i][i] = (sigma*sigma)*(xj[i]*xj[i])/float(h*h)+ r* xj[i]/h +r\n",
        "    if i<M+1:\n",
        "        A[i][i+1]=-(sigma*sigma)*(xj[i]*xj[i])/float(2*(h*h)) - r* xj[i]/h"
      ],
      "execution_count": 0,
      "outputs": []
    },
    {
      "cell_type": "code",
      "metadata": {
        "id": "ugVQFnfE5zYL",
        "colab_type": "code",
        "colab": {}
      },
      "source": [
        "#payoff matrix\n",
        "g = np.zeros(M+2)\n",
        "for i in range(0, M+2):\n",
        "    g[i] = max(K-xj[i],0)"
      ],
      "execution_count": 0,
      "outputs": []
    },
    {
      "cell_type": "code",
      "metadata": {
        "id": "nCuw_4GU51uW",
        "colab_type": "code",
        "colab": {}
      },
      "source": [
        "#calculating P matrix\n",
        "P = np.zeros((M+2,N+1))\n",
        "for i in range(0, M+2):\n",
        "    P[i][0] = g[i]\n",
        "for i in range(0, N):\n",
        "    temp = np.zeros(M+2)\n",
        "    temp1 = np.zeros(M+2)\n",
        "    \n",
        "    temp = P[:,i]-delta_t*np.matmul(A,P[:,i])\n",
        "    for j in range(0, M+2):\n",
        "        temp1[j] = max(temp[j], g[j])\n",
        "    P[:,i+1] = temp1\n",
        "    P[M+1,i+1] = 0"
      ],
      "execution_count": 0,
      "outputs": []
    },
    {
      "cell_type": "code",
      "metadata": {
        "id": "C0Pvdms_54Bd",
        "colab_type": "code",
        "colab": {
          "base_uri": "https://localhost:8080/",
          "height": 265
        },
        "outputId": "98c1cc1c-617b-42a5-8aed-f617c0172f92"
      },
      "source": [
        "# M = 35\n",
        "pylab.plot(xj, P[:,N])\n",
        "plt.show()"
      ],
      "execution_count": 13,
      "outputs": [
        {
          "output_type": "display_data",
          "data": {
            "image/png": "[encoded data removed]",
            "text/plain": [
              "<Figure size 432x288 with 1 Axes>"
            ]
          },
          "metadata": {
            "tags": []
          }
        }
      ]
    },
    {
      "cell_type": "code",
      "metadata": {
        "id": "js0ZFgQi56KK",
        "colab_type": "code",
        "colab": {}
      },
      "source": [
        "B  = np.eye(M+2) + delta_t * A\n"
      ],
      "execution_count": 0,
      "outputs": []
    },
    {
      "cell_type": "code",
      "metadata": {
        "id": "hbUJlM_u58dt",
        "colab_type": "code",
        "colab": {}
      },
      "source": [
        "def func(x,B,b,g):\n",
        "    temp = np.zeros(len(x))\n",
        "    y = np.matmul(B,x)\n",
        "    for i in range(0,len(x)):\n",
        "        temp[i] = min(x[i]-g[i], y[i]-b[i])\n",
        "    return temp"
      ],
      "execution_count": 0,
      "outputs": []
    },
    {
      "cell_type": "code",
      "metadata": {
        "id": "ytED6vPb5-x-",
        "colab_type": "code",
        "colab": {}
      },
      "source": [
        "def derivative(x,B,b,g):\n",
        "    der = np.zeros((M+2,M+2))\n",
        "    y = np.matmul(B,x)\n",
        "    for j in range(M+2):\n",
        "        for i in range(M+2):\n",
        "            if y[i]-b[i]<=x[i]-g[i]:\n",
        "                der[j][i] = B[j][i]\n",
        "            elif i == j:\n",
        "                der[j][i] = 1\n",
        "            else:\n",
        "                der[j][i] = 0\n",
        "    return der"
      ],
      "execution_count": 0,
      "outputs": []
    },
    {
      "cell_type": "code",
      "metadata": {
        "id": "4cQausL06Bkj",
        "colab_type": "code",
        "colab": {}
      },
      "source": [
        "Price = np.zeros((M+2,N+1))\n",
        "for i in range(0, M+2):\n",
        "    Price[i][0] = g[i]"
      ],
      "execution_count": 0,
      "outputs": []
    },
    {
      "cell_type": "code",
      "metadata": {
        "id": "5VMcJuWw6EEk",
        "colab_type": "code",
        "colab": {}
      },
      "source": [
        "K1 = 1000\n",
        "eps = 0.0000001\n",
        "for i in range(0, N):\n",
        "    b = Price[:,i]\n",
        "    xx = np.zeros(M+2)\n",
        "    for k in range(0,K1): \n",
        "        fx = func(xx,B,b,g)\n",
        "        fxder = derivative(xx,B,b,g)\n",
        "        xx = xx - np.dot(np.linalg.inv(fxder), fx)\n",
        "        if max(np.abs(np.dot(np.linalg.inv(fxder), fx)))< eps: \n",
        "            break\n",
        "    Price[:,i+1] = xx"
      ],
      "execution_count": 0,
      "outputs": []
    },
    {
      "cell_type": "code",
      "metadata": {
        "id": "RwtZ3F6Z6G5M",
        "colab_type": "code",
        "colab": {
          "base_uri": "https://localhost:8080/",
          "height": 265
        },
        "outputId": "0f7410dc-9e54-4a05-8d2f-b956c180449c"
      },
      "source": [
        "pylab.plot(xj, Price[:,N])\n",
        "plt.show()"
      ],
      "execution_count": 19,
      "outputs": [
        {
          "output_type": "display_data",
          "data": {
            "image/png": "[encoded data removed]",
            "text/plain": [
              "<Figure size 432x288 with 1 Axes>"
            ]
          },
          "metadata": {
            "tags": []
          }
        }
      ]
    },
    {
      "cell_type": "code",
      "metadata": {
        "id": "2icTxd-d6J_e",
        "colab_type": "code",
        "colab": {
          "base_uri": "https://localhost:8080/",
          "height": 34
        },
        "outputId": "122d7a75-63f9-4a24-88db-58b0a8a9bfa6"
      },
      "source": [
        "#Secant Method\n",
        "xj = np.zeros(M+2)\n",
        "for j in range(0, M+2):\n",
        "    xj[j] = j*h\n",
        "\n",
        "tolerance = 0.0001\n",
        "Iterations = 100\n",
        "N = 20\n",
        "for i in range(0, N):\n",
        "    b = Price[:,i]\n",
        "    xx1 = np.ones(M+2)\n",
        "    xx0 = np.zeros(M+2)\n",
        "    xx2 = xx1\n",
        "    for k in range(0,Iterations): \n",
        "        if abs((xx1-xx0)).any() <= tolerance or k >= Iterations:\n",
        "            break\n",
        "        else:\n",
        "            xx2 = xx1 - func(xx1,B,b,g)*(xx1-xx0)/(func(xx1,B,b,g)-func(xx0,B,b,g))     \n",
        "            np.nan_to_num(xx2)\n",
        "            #print(xx2)\n",
        "            #break\n",
        "            xx1, xx0 = xx2, xx1\n",
        "            np.nan_to_num(xx1)\n",
        "    Price[:,i+1] = xx2"
      ],
      "execution_count": 20,
      "outputs": [
        {
          "output_type": "stream",
          "text": [
            "/usr/local/lib/python3.6/dist-packages/ipykernel_launcher.py:17: RuntimeWarning: invalid value encountered in true_divide\n"
          ],
          "name": "stderr"
        }
      ]
    },
    {
      "cell_type": "code",
      "metadata": {
        "id": "lrKWR_DB6N9r",
        "colab_type": "code",
        "colab": {
          "base_uri": "https://localhost:8080/",
          "height": 401
        },
        "outputId": "4c619c3d-88f5-49b5-ff1a-c75e4e1fceb1"
      },
      "source": [
        "print(xx2) \n",
        "#print(steps)\n",
        "pylab.plot(xj, Price[:,N])\n",
        "plt.show()"
      ],
      "execution_count": 21,
      "outputs": [
        {
          "output_type": "stream",
          "text": [
            "[100.          94.44444444  88.88888889  83.33333333  77.77777778\n",
            "  72.22222222  66.66666667  61.11111111  55.55555556  50.\n",
            "  44.44444444  38.88888889  33.33333333  27.77777778  22.22222222\n",
            "  16.66666667  11.11111111   5.55555556   0.           0.\n",
            "   0.           0.           0.           0.           0.\n",
            "   0.           0.           0.           0.           0.\n",
            "   0.           0.           0.           0.           0.\n",
            "   0.           0.        ]\n"
          ],
          "name": "stdout"
        },
        {
          "output_type": "display_data",
          "data": {
            "image/png": "[encoded data removed]",
            "text/plain": [
              "<Figure size 432x288 with 1 Axes>"
            ]
          },
          "metadata": {
            "tags": []
          }
        }
      ]
    },
    {
      "cell_type": "markdown",
      "metadata": {
        "id": "K3PCpZCt6SCW",
        "colab_type": "text"
      },
      "source": [
        "# Provided by https://github.com/pranavsawant23"
      ]
    }
  ]
}