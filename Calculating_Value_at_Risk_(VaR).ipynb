{
  "nbformat": 4,
  "nbformat_minor": 0,
  "metadata": {
    "colab": {
      "name": "Calculating Value at Risk (VaR).ipynb",
      "provenance": [],
      "collapsed_sections": []
    },
    "kernelspec": {
      "name": "python3",
      "display_name": "Python 3"
    }
  },
  "cells": [
    {
      "cell_type": "markdown",
      "metadata": {
        "id": "yxfFlztEkd-6",
        "colab_type": "text"
      },
      "source": [
        "#Value-at-Risk\n",
        "\n",
        "The included jupyter notebook describes an example of calculating value at risk for a given portfolio for a given, single asset such as the S&P 500. The user provides basic information such as the Asset (ticker symbol), the Years of historical data you wish to use, the Expected Percent Change that you want to measure, and the Value of the Portfolio you are estimating on.\n",
        "\n",
        "The Python code retrieves asset data for a given number of years from IEX, using pandas datareader. It gives the option to export the data retrieved to a csv on a local machine titled \"modified_data.csv\".\n",
        "\n",
        "The retrieved data has been modified to include the percentage change from day to day. A distribution of these percentage changes are then analyzed to compute the value at risk.\n",
        "\n",
        "Two figures are provided, a histogram and gaussian curve, to help visualize the distribution of the percent daily change. A single vertical line is shown on the gaussian curve to distinguish the location on the distribution of the expected percent change.\n",
        "\n",
        "In conclusion, a quantitative analysis of value-at-risk is given, along with the expected 1% risk of the portfolio in relation to the asset."
      ]
    },
    {
      "cell_type": "markdown",
      "metadata": {
        "id": "JBrogGAwsW23",
        "colab_type": "text"
      },
      "source": [
        "# Value at Risk Calculation System\n",
        "This is a project I wrote for a graduate-level financial risk management course.There are three steps:\n",
        "\n",
        "## Step 1\n",
        "Implemented EWMA model to estimate daily volatilities of USD-MXN exchange rate returns from 2015 to 2017.\n",
        "\n",
        "## Step 2\n",
        "Introduced Monte Carlo simulation, parametric and historical methods to calculate one-day VaR of Mexican peso.\n",
        "\n",
        "## Step 3\n",
        "Back-tested VaR model for accuracy at different confidence levels using Chi-Square goodness-of-fit test."
      ]
    },
    {
      "cell_type": "markdown",
      "metadata": {
        "id": "FKYgzv1oseKY",
        "colab_type": "text"
      },
      "source": [
        "# Step1 Estimate Daily Volatilities with EWMA Model¶"
      ]
    },
    {
      "cell_type": "code",
      "metadata": {
        "id": "_f-WdMQzqUds",
        "colab_type": "code",
        "colab": {}
      },
      "source": [
        "# this function wrote for calculating daily volatilities\n",
        "# using EWMA (Exponentially Weighted Moving Average) model\n",
        "\n",
        "\n",
        "def ewma_vol(data, observed_days, decay_factor):\n",
        "    \"\"\"\n",
        "    data type: dataframe(dataframe contains date, price and log-return)\n",
        "    observed_days type: int(observed days)\n",
        "    decay_factor type: float(decay factor)\n",
        "    output type: dataframe(dataframe contains date, price, log-return and volatilitis)\n",
        "    \"\"\"\n",
        "    # set the first vol using root mean square of return\n",
        "    data.loc[(observed_days - 1), 'Volatility'] = np.sqrt(\n",
        "        ((data.loc[:observed_days - 1, 'Log Return'] - 0) ** 2).mean())\n",
        "    # calculate vol using EWMA recursive formula\n",
        "    for index in range(observed_days, len(data)):\n",
        "        data.loc[index, 'Volatility'] = np.sqrt(\n",
        "            (1 - decay_factor) * data.loc[index, 'Log Return'] ** 2 + decay_factor * data.loc[(index - 1), 'Volatility'] ** 2)\n",
        "    # drop the rows for null value\n",
        "    data.dropna(inplace=True)\n",
        "    data.reset_index(inplace=True, drop=True)\n",
        "\n",
        "    return data"
      ],
      "execution_count": 0,
      "outputs": []
    },
    {
      "cell_type": "markdown",
      "metadata": {
        "id": "q4OXdyNeskIy",
        "colab_type": "text"
      },
      "source": [
        "# Step2 Calculate One-Day VaR\n",
        "## 2.1 Monte Carlo Simulation"
      ]
    },
    {
      "cell_type": "code",
      "metadata": {
        "id": "oA-Eiuriq5F_",
        "colab_type": "code",
        "colab": {}
      },
      "source": [
        "# use random draws from a hypothesized return distribution\n",
        "\n",
        "\n",
        "def mc_simulation_var(data, observed_days, decay_factor, confidence_level):\n",
        "    \"\"\"\n",
        "    data type: dataframe(dataframe contains date, price and log-return)\n",
        "    observed_days type: int(observed days)\n",
        "    decay_factor type: float(decay factor)\n",
        "    confidence_level type: float(confidence_level for VaR)\n",
        "    output type: dataframe(dataframe contains date, price, log-return and mc-simulation-var)\n",
        "    \"\"\"\n",
        "    # calculate the EWMA volatility\n",
        "    data = ewma_vol(data, observed_days, decay_factor)\n",
        "\n",
        "    # use monte carlo simulation to create the var\n",
        "    # calculate the var using the quantile of 1000 simulation\n",
        "    for index in range(len(data)):\n",
        "        random_returns = np.random.normal(\n",
        "            loc=0, scale=data.loc[index, 'Volatility'], size=1000)\n",
        "        var_return = np.percentile(\n",
        "            random_returns, (1 - confidence_level) * 100)\n",
        "        data.loc[index, 'VaR'] = data.loc[index,\n",
        "                                          'Price'] * (1 - np.exp(var_return))\n",
        "\n",
        "    return data\n"
      ],
      "execution_count": 0,
      "outputs": []
    },
    {
      "cell_type": "markdown",
      "metadata": {
        "id": "BYK19HkmspO1",
        "colab_type": "text"
      },
      "source": [
        "## 2.2 Parametric Method¶"
      ]
    },
    {
      "cell_type": "code",
      "metadata": {
        "id": "ra3w4nOCq70c",
        "colab_type": "code",
        "colab": {}
      },
      "source": [
        "# based on a hypothesized return distribution plus a volatility estimate\n",
        "\n",
        "\n",
        "def parametric_var(data, observed_days, decay_factor, confidence_level):\n",
        "    \"\"\"\n",
        "    data type: dataframe(dataframe contains date, price and log-return)\n",
        "    observed_days type: int(observed days)\n",
        "    decay_factor type: float(decay factor)\n",
        "    confidence_level type: float(confidence_level for VaR)\n",
        "    output type: dataframe(dataframe contains date, price, log-return and parametric-var)\n",
        "    \"\"\"\n",
        "    # calculate the EWMA volatility\n",
        "    data = ewma_vol(data, observed_days, decay_factor)\n",
        "    # use parametric method to create the var\n",
        "    data['VaR'] = data['Price'] * (1 - np.exp(norm.ppf(\n",
        "        1 - confidence_level, loc=0, scale=data['Volatility'])))\n",
        "\n",
        "    return data"
      ],
      "execution_count": 0,
      "outputs": []
    },
    {
      "cell_type": "markdown",
      "metadata": {
        "id": "bcl9ha25ssmI",
        "colab_type": "text"
      },
      "source": [
        "## 2.3 Historical Method¶"
      ]
    },
    {
      "cell_type": "code",
      "metadata": {
        "id": "XscQSE1fq-Z8",
        "colab_type": "code",
        "colab": {}
      },
      "source": [
        "# based on historical returns over some past observation period\n",
        "# no distributional hypothesis\n",
        "\n",
        "\n",
        "def historical_var(data, observed_days, confidence_level):\n",
        "    \"\"\"\n",
        "    data type: dataframe(dataframe contains date, price and log-return)\n",
        "    observed_days type: int(observed days)\n",
        "    confidence_level type: float(confidence_level for VaR)\n",
        "    output type: dataframe(dataframe contains date, price, log-return and historical-var)\n",
        "    \"\"\"\n",
        "\n",
        "    for index in range(observed_days - 1, len(data)):\n",
        "        data.loc[index, 'VaR'] = data.loc[index, 'Price'] * (1 - np.exp(np.percentile(\n",
        "            data['Log Return'][index - observed_days + 1:index], (1 - confidence_level) * 100)))\n",
        "\n",
        "    # drop the rows for null value\n",
        "    data.dropna(inplace=True)\n",
        "    data.reset_index(inplace=True, drop=True)\n",
        "\n",
        "    return data"
      ],
      "execution_count": 0,
      "outputs": []
    },
    {
      "cell_type": "markdown",
      "metadata": {
        "id": "cSdFsfB6swVe",
        "colab_type": "text"
      },
      "source": [
        "# Step3 Back-Tested VaR Model with Chi-Squared Test¶"
      ]
    },
    {
      "cell_type": "code",
      "metadata": {
        "id": "H1njuPEKrDbv",
        "colab_type": "code",
        "colab": {}
      },
      "source": [
        "# use the Chi-Square goodness-of-fit test to back-test the VaR model\n",
        "\n",
        "\n",
        "def backtest_var(data_var, confidence_level, confidence_level_chi2):\n",
        "    \"\"\"\n",
        "    data type: dataframe(dataframe contains date, price, log-return and VaR)\n",
        "    confidence_level type: float(confidence_interval for VaR)\n",
        "    confidence_level_chi2 type: float(confidence_interval for chi-squared test)\n",
        "    output type: dictionary(dictionary contains chi-squred test results)\n",
        "    \"\"\"\n",
        "    # calculate the number of exceed observations\n",
        "    exceed_num = len(\n",
        "        data_var[(data_var['Price'].shift(1) - data_var['Price']) > data_var['VaR']])\n",
        "    # calculate the total observations\n",
        "    total_num = len(data_var) - 1\n",
        "    # calculate the test statistics\n",
        "    test_statistics = 2 * (np.log((exceed_num / total_num)**exceed_num * (1 - exceed_num / total_num)**(\n",
        "        total_num - exceed_num)) - np.log((1 - confidence_level)**exceed_num * confidence_level**(total_num - exceed_num)))\n",
        "    # calculate the 0.95 chi-squared statistics\n",
        "    chi_squared_statistics = chi2.ppf(confidence_level_chi2, 1)\n",
        "\n",
        "    # create the dictionnary to diaplay the results\n",
        "    test_result = {}\n",
        "    test_result['VaR Confidence-level'] = confidence_level\n",
        "    test_result['Chi2 Confidence-level'] = confidence_level_chi2\n",
        "    test_result['Exceed Num'] = exceed_num\n",
        "    test_result['Total Num'] = total_num\n",
        "    test_result['Test Statistics'] = test_statistics\n",
        "    test_result['Chi-squared Statistics'] = chi_squared_statistics\n",
        "    if test_statistics < chi_squared_statistics:\n",
        "        test_result['Null Hypothesis'] = 'Accept'\n",
        "    else:\n",
        "        test_result['Null Hypothesis'] = 'Reject'\n",
        "\n",
        "    return test_result"
      ],
      "execution_count": 0,
      "outputs": []
    },
    {
      "cell_type": "markdown",
      "metadata": {
        "id": "nq-dzFjXs2d6",
        "colab_type": "text"
      },
      "source": [
        "# Value-at-Risk Calculation System¶\n",
        "## Import Library"
      ]
    },
    {
      "cell_type": "code",
      "metadata": {
        "id": "DbwmthbprElF",
        "colab_type": "code",
        "colab": {}
      },
      "source": [
        "import pandas as pd\n",
        "import numpy as np\n",
        "from scipy.stats import norm\n",
        "from scipy.stats import chi2"
      ],
      "execution_count": 0,
      "outputs": []
    },
    {
      "cell_type": "markdown",
      "metadata": {
        "id": "yt818y9xtAVF",
        "colab_type": "text"
      },
      "source": [
        "## Main Function¶"
      ]
    },
    {
      "cell_type": "code",
      "metadata": {
        "id": "8faHuDmtrIZI",
        "colab_type": "code",
        "colab": {}
      },
      "source": [
        "# this is the main function of this project\n",
        "# use lognormal and zero-drift model\n",
        "\n",
        "\n",
        "def main_var(price_file_name, method, observed_days, decay_factor, confidence_level, confidence_level_chi2):\n",
        "    \"\"\"\n",
        "    price_file_name type: str(name of the csv file containing date and price)\n",
        "    method type: str(name of the method to calculate VaR)\n",
        "    observed_days type: int(observed days)\n",
        "    decay_factor type: float(decay factor)\n",
        "    confidence_level type: float(confidence_level for VaR)\n",
        "    confidence_level_chi2 type: float(confidence_interval for chi-squared test)\n",
        "    output type: print results\n",
        "    \"\"\"\n",
        "\n",
        "    # import the data from the csv file into a dataframe\n",
        "    data = pd.read_csv(price_file_name)\n",
        "    # calculate the log-return of the price\n",
        "    data['Log Return'] = np.log(data['Price'] / data['Price'].shift(1))\n",
        "    # drop the rows for null value\n",
        "    data.dropna(inplace=True)\n",
        "    data.reset_index(inplace=True, drop=True)\n",
        "\n",
        "    # monte carlo simulation method and back-testing\n",
        "    if method == 'Monte Carlo Simulation':\n",
        "        print('\\nMonte Carlo Simulation')\n",
        "        print('------------------------\\n')\n",
        "\n",
        "        var = mc_simulation_var(data, observed_days,\n",
        "                                decay_factor, confidence_level)\n",
        "        print('\\nDisplay First Five Daily VaR\\n')\n",
        "        print(var.head(5))\n",
        "\n",
        "        backtest_result = backtest_var(\n",
        "            var, confidence_level, confidence_level_chi2)\n",
        "        print('\\nDisplay Backtest Result\\n')\n",
        "        print(backtest_result)\n",
        "\n",
        "    # parametric method and back-testing\n",
        "    if method == 'Parametric Method':\n",
        "        print('\\nParametric Method')\n",
        "        print('------------------------\\n')\n",
        "\n",
        "        var = parametric_var(\n",
        "            data, observed_days, decay_factor, confidence_level)\n",
        "        print('\\nDisplay First Five Daily VaR\\n')\n",
        "        print(var.head(5))\n",
        "\n",
        "        backtest_result = backtest_var(\n",
        "            var, confidence_level, confidence_level_chi2)\n",
        "        print('\\nDisplay Backtest Result\\n')\n",
        "        print(backtest_result)\n",
        "\n",
        "    # historic method and back-testing\n",
        "    if method == 'Historical Method':\n",
        "        print('\\nHistorical Method')\n",
        "        print('------------------------\\n')\n",
        "\n",
        "        var = historical_var(data, observed_days, confidence_level)\n",
        "        print('\\nDisplay First Five Daily VaR\\n')\n",
        "        print(var.head(5))\n",
        "\n",
        "        backtest_result = backtest_var(\n",
        "            var, confidence_level, confidence_level_chi2)\n",
        "        print('\\nDisplay Backtest Result\\n')\n",
        "        print(backtest_result)"
      ],
      "execution_count": 0,
      "outputs": []
    },
    {
      "cell_type": "markdown",
      "metadata": {
        "id": "XLC7ymYZsH8G",
        "colab_type": "text"
      },
      "source": [
        "### Results"
      ]
    },
    {
      "cell_type": "code",
      "metadata": {
        "id": "cW5O0XtErL5O",
        "colab_type": "code",
        "colab": {
          "base_uri": "https://localhost:8080/",
          "height": 326
        },
        "outputId": "513f96a0-dda1-43c6-eac0-b5a3e32e7dea"
      },
      "source": [
        "main_var('/content/mxn_usd.csv', 'Monte Carlo Simulation', 22, 0.94, 0.95, 0.95)\n"
      ],
      "execution_count": 61,
      "outputs": [
        {
          "output_type": "stream",
          "text": [
            "\n",
            "Monte Carlo Simulation\n",
            "------------------------\n",
            "\n",
            "\n",
            "Display First Five Daily VaR\n",
            "\n",
            "        Date     Price  Log Return  Volatility       VaR\n",
            "0  1/30/2015  0.066769   -0.012226    0.006728  0.000704\n",
            "1   2/2/2015  0.067260    0.007331    0.006766  0.000746\n",
            "2   2/3/2015  0.068245    0.014539    0.007464  0.000856\n",
            "3   2/4/2015  0.067145   -0.016260    0.008260  0.000937\n",
            "4   2/5/2015  0.067623    0.007095    0.008195  0.000932\n",
            "\n",
            "Display Backtest Result\n",
            "\n",
            "{'VaR Confidence-level': 0.95, 'Chi2 Confidence-level': 0.95, 'Exceed Num': 33, 'Total Num': 523, 'Test Statistics': 1.7503294818201027, 'Chi-squared Statistics': 3.841458820694124, 'Null Hypothesis': 'Accept'}\n"
          ],
          "name": "stdout"
        }
      ]
    },
    {
      "cell_type": "code",
      "metadata": {
        "id": "ZFkSPNoQsKAy",
        "colab_type": "code",
        "colab": {
          "base_uri": "https://localhost:8080/",
          "height": 326
        },
        "outputId": "0d00f49b-cdd9-4b60-8153-0c91e4a62966"
      },
      "source": [
        "main_var('mxn_usd.csv', 'Parametric Method', 22, 0.94, 0.95, 0.95)\n"
      ],
      "execution_count": 62,
      "outputs": [
        {
          "output_type": "stream",
          "text": [
            "\n",
            "Parametric Method\n",
            "------------------------\n",
            "\n",
            "\n",
            "Display First Five Daily VaR\n",
            "\n",
            "        Date     Price  Log Return  Volatility       VaR\n",
            "0  1/30/2015  0.066769   -0.012226    0.006728  0.000735\n",
            "1   2/2/2015  0.067260    0.007331    0.006766  0.000744\n",
            "2   2/3/2015  0.068245    0.014539    0.007464  0.000833\n",
            "3   2/4/2015  0.067145   -0.016260    0.008260  0.000906\n",
            "4   2/5/2015  0.067623    0.007095    0.008195  0.000905\n",
            "\n",
            "Display Backtest Result\n",
            "\n",
            "{'VaR Confidence-level': 0.95, 'Chi2 Confidence-level': 0.95, 'Exceed Num': 31, 'Total Num': 523, 'Test Statistics': 0.8960549322980285, 'Chi-squared Statistics': 3.841458820694124, 'Null Hypothesis': 'Accept'}\n"
          ],
          "name": "stdout"
        }
      ]
    },
    {
      "cell_type": "code",
      "metadata": {
        "id": "T5-GvQROsNw8",
        "colab_type": "code",
        "colab": {
          "base_uri": "https://localhost:8080/",
          "height": 326
        },
        "outputId": "041cfaba-a991-458a-da0f-a5ef9dbbc2ea"
      },
      "source": [
        "main_var('mxn_usd.csv', 'Historical Method', 22, 0.94, 0.95, 0.95)\n"
      ],
      "execution_count": 63,
      "outputs": [
        {
          "output_type": "stream",
          "text": [
            "\n",
            "Historical Method\n",
            "------------------------\n",
            "\n",
            "\n",
            "Display First Five Daily VaR\n",
            "\n",
            "        Date     Price  Log Return       VaR\n",
            "0  1/30/2015  0.066769   -0.012226  0.000616\n",
            "1   2/2/2015  0.067260    0.007331  0.000815\n",
            "2   2/3/2015  0.068245    0.014539  0.000827\n",
            "3   2/4/2015  0.067145   -0.016260  0.000814\n",
            "4   2/5/2015  0.067623    0.007095  0.000822\n",
            "\n",
            "Display Backtest Result\n",
            "\n",
            "{'VaR Confidence-level': 0.95, 'Chi2 Confidence-level': 0.95, 'Exceed Num': 52, 'Total Num': 523, 'Test Statistics': 21.15789964671228, 'Chi-squared Statistics': 3.841458820694124, 'Null Hypothesis': 'Reject'}\n"
          ],
          "name": "stdout"
        }
      ]
    }
  ]
}