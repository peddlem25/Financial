{
  "nbformat": 4,
  "nbformat_minor": 0,
  "metadata": {
    "colab": {
      "name": "Pair_Cross_Currency_Trade.ipynb",
      "provenance": [],
      "collapsed_sections": []
    },
    "kernelspec": {
      "name": "python3",
      "display_name": "Python 3"
    }
  },
  "cells": [
    {
      "cell_type": "markdown",
      "metadata": {
        "id": "J-llerUF6wnZ",
        "colab_type": "text"
      },
      "source": [
        "# Data Series Analysis of USDBRL and USDCNH¶\n",
        "\n",
        "The data for the two series comes from the FRED database. After retrieving the data for the last 3 years, we merge it into one single dataframe and compute the log returns. Then, we plot the two series with scatter plot and draw the linear regression and write the equation to see if there is explanatory power into on currency or the other. \n",
        "\n",
        "Finally we compute the Beta of the two currencies to see the hedge ratio in case of a pair trade.\n"
      ]
    },
    {
      "cell_type": "code",
      "metadata": {
        "id": "f_N_fGIn6npu",
        "colab_type": "code",
        "colab": {}
      },
      "source": [
        "import datetime as dt\n",
        "import matplotlib.pyplot as plt\n",
        "from matplotlib import style\n",
        "import numpy as np\n",
        "import pandas as pd\n",
        "import pandas_datareader.data as web\n",
        "import seaborn as sns\n",
        "style.use('ggplot')"
      ],
      "execution_count": 0,
      "outputs": []
    },
    {
      "cell_type": "code",
      "metadata": {
        "id": "6lRBZUwv6zHp",
        "colab_type": "code",
        "colab": {}
      },
      "source": [
        "start = dt.datetime(2018,1,4)\n",
        "end = dt.datetime(2020,12,31)"
      ],
      "execution_count": 0,
      "outputs": []
    },
    {
      "cell_type": "code",
      "metadata": {
        "id": "mBWkp4lg62Qq",
        "colab_type": "code",
        "colab": {}
      },
      "source": [
        "# Import data from FRED\n",
        "df1 = web.DataReader('DEXBZUS', 'fred', start, end)\n",
        "df2 = web.DataReader('DEXCHUS', 'fred', start, end)"
      ],
      "execution_count": 0,
      "outputs": []
    },
    {
      "cell_type": "code",
      "metadata": {
        "id": "TBZ9D4Bo66hz",
        "colab_type": "code",
        "colab": {}
      },
      "source": [
        "# Save the series into two csv files\n",
        "df1.to_csv('DEXBZUS.csv')\n",
        "df2.to_csv('DEXCHUS.csv')"
      ],
      "execution_count": 0,
      "outputs": []
    },
    {
      "cell_type": "code",
      "metadata": {
        "id": "Vy3zimCX7A55",
        "colab_type": "code",
        "colab": {}
      },
      "source": [
        "# Open the series from the csv and merge them into one dataframe\n",
        "df1 = pd.read_csv('DEXBZUS.csv', parse_dates=True, index_col=0)\n",
        "df2 = pd.read_csv('DEXCHUS.csv', parse_dates=True, index_col=0)\n",
        "df = pd.merge(df1, df2, on='DATE', how='outer')"
      ],
      "execution_count": 0,
      "outputs": []
    },
    {
      "cell_type": "code",
      "metadata": {
        "id": "xrrDM09h7Flz",
        "colab_type": "code",
        "colab": {
          "base_uri": "https://localhost:8080/",
          "height": 430
        },
        "outputId": "a8b883eb-24ad-4b19-f00b-37ae4d75ce65"
      },
      "source": [
        "print(df.head())\n",
        "df.plot()"
      ],
      "execution_count": 6,
      "outputs": [
        {
          "output_type": "stream",
          "text": [
            "            DEXBZUS  DEXCHUS\n",
            "DATE                        \n",
            "2018-01-04   3.2274   6.4915\n",
            "2018-01-05   3.2285   6.4875\n",
            "2018-01-08   3.2308   6.4970\n",
            "2018-01-09   3.2491   6.5263\n",
            "2018-01-10   3.2363   6.5055\n"
          ],
          "name": "stdout"
        },
        {
          "output_type": "execute_result",
          "data": {
            "text/plain": [
              "<matplotlib.axes._subplots.AxesSubplot at 0x7f55ffdfd860>"
            ]
          },
          "metadata": {
            "tags": []
          },
          "execution_count": 6
        },
        {
          "output_type": "display_data",
          "data": {
            "image/png": "[encoded data removed]",
            "text/plain": [
              "<Figure size 432x288 with 1 Axes>"
            ]
          },
          "metadata": {
            "tags": []
          }
        }
      ]
    },
    {
      "cell_type": "markdown",
      "metadata": {
        "id": "sw05No9W7IOo",
        "colab_type": "text"
      },
      "source": [
        "## Compute Log returns and save them into a new column or % points\n"
      ]
    },
    {
      "cell_type": "code",
      "metadata": {
        "id": "kxHQIiXC7JLy",
        "colab_type": "code",
        "colab": {}
      },
      "source": [
        "df['BZUS_RET'] = np.log(df['DEXBZUS'] / df['DEXBZUS'].shift(1))\n",
        "df['CHUS_RET'] = np.log(df['DEXCHUS'] / df['DEXCHUS'].shift(1))\n",
        "# df['CHUS_RET'] = df['DEXCHUS'].pct_change()"
      ],
      "execution_count": 0,
      "outputs": []
    },
    {
      "cell_type": "code",
      "metadata": {
        "id": "WX-N-gVg7M5T",
        "colab_type": "code",
        "colab": {
          "base_uri": "https://localhost:8080/",
          "height": 450
        },
        "outputId": "88b842e2-0a87-4a33-b9d4-dc193a0bc5ee"
      },
      "source": [
        "df.fillna(0)\n",
        "#df.isna().sum()"
      ],
      "execution_count": 8,
      "outputs": [
        {
          "output_type": "execute_result",
          "data": {
            "text/html": [
              "<div>\n",
              "<style scoped>\n",
              "    .dataframe tbody tr th:only-of-type {\n",
              "        vertical-align: middle;\n",
              "    }\n",
              "\n",
              "    .dataframe tbody tr th {\n",
              "        vertical-align: top;\n",
              "    }\n",
              "\n",
              "    .dataframe thead th {\n",
              "        text-align: right;\n",
              "    }\n",
              "</style>\n",
              "<table border=\"1\" class=\"dataframe\">\n",
              "  <thead>\n",
              "    <tr style=\"text-align: right;\">\n",
              "      <th></th>\n",
              "      <th>DEXBZUS</th>\n",
              "      <th>DEXCHUS</th>\n",
              "      <th>BZUS_RET</th>\n",
              "      <th>CHUS_RET</th>\n",
              "    </tr>\n",
              "    <tr>\n",
              "      <th>DATE</th>\n",
              "      <th></th>\n",
              "      <th></th>\n",
              "      <th></th>\n",
              "      <th></th>\n",
              "    </tr>\n",
              "  </thead>\n",
              "  <tbody>\n",
              "    <tr>\n",
              "      <th>2018-01-04</th>\n",
              "      <td>3.2274</td>\n",
              "      <td>6.4915</td>\n",
              "      <td>0.000000</td>\n",
              "      <td>0.000000</td>\n",
              "    </tr>\n",
              "    <tr>\n",
              "      <th>2018-01-05</th>\n",
              "      <td>3.2285</td>\n",
              "      <td>6.4875</td>\n",
              "      <td>0.000341</td>\n",
              "      <td>-0.000616</td>\n",
              "    </tr>\n",
              "    <tr>\n",
              "      <th>2018-01-08</th>\n",
              "      <td>3.2308</td>\n",
              "      <td>6.4970</td>\n",
              "      <td>0.000712</td>\n",
              "      <td>0.001463</td>\n",
              "    </tr>\n",
              "    <tr>\n",
              "      <th>2018-01-09</th>\n",
              "      <td>3.2491</td>\n",
              "      <td>6.5263</td>\n",
              "      <td>0.005648</td>\n",
              "      <td>0.004500</td>\n",
              "    </tr>\n",
              "    <tr>\n",
              "      <th>2018-01-10</th>\n",
              "      <td>3.2363</td>\n",
              "      <td>6.5055</td>\n",
              "      <td>-0.003947</td>\n",
              "      <td>-0.003192</td>\n",
              "    </tr>\n",
              "    <tr>\n",
              "      <th>...</th>\n",
              "      <td>...</td>\n",
              "      <td>...</td>\n",
              "      <td>...</td>\n",
              "      <td>...</td>\n",
              "    </tr>\n",
              "    <tr>\n",
              "      <th>2020-01-27</th>\n",
              "      <td>4.2268</td>\n",
              "      <td>6.9161</td>\n",
              "      <td>0.009246</td>\n",
              "      <td>0.000000</td>\n",
              "    </tr>\n",
              "    <tr>\n",
              "      <th>2020-01-28</th>\n",
              "      <td>4.2094</td>\n",
              "      <td>6.9161</td>\n",
              "      <td>-0.004125</td>\n",
              "      <td>0.000000</td>\n",
              "    </tr>\n",
              "    <tr>\n",
              "      <th>2020-01-29</th>\n",
              "      <td>4.2162</td>\n",
              "      <td>6.9161</td>\n",
              "      <td>0.001614</td>\n",
              "      <td>0.000000</td>\n",
              "    </tr>\n",
              "    <tr>\n",
              "      <th>2020-01-30</th>\n",
              "      <td>4.2602</td>\n",
              "      <td>6.9161</td>\n",
              "      <td>0.010382</td>\n",
              "      <td>0.000000</td>\n",
              "    </tr>\n",
              "    <tr>\n",
              "      <th>2020-01-31</th>\n",
              "      <td>4.2801</td>\n",
              "      <td>6.9161</td>\n",
              "      <td>0.004660</td>\n",
              "      <td>0.000000</td>\n",
              "    </tr>\n",
              "  </tbody>\n",
              "</table>\n",
              "<p>542 rows × 4 columns</p>\n",
              "</div>"
            ],
            "text/plain": [
              "            DEXBZUS  DEXCHUS  BZUS_RET  CHUS_RET\n",
              "DATE                                            \n",
              "2018-01-04   3.2274   6.4915  0.000000  0.000000\n",
              "2018-01-05   3.2285   6.4875  0.000341 -0.000616\n",
              "2018-01-08   3.2308   6.4970  0.000712  0.001463\n",
              "2018-01-09   3.2491   6.5263  0.005648  0.004500\n",
              "2018-01-10   3.2363   6.5055 -0.003947 -0.003192\n",
              "...             ...      ...       ...       ...\n",
              "2020-01-27   4.2268   6.9161  0.009246  0.000000\n",
              "2020-01-28   4.2094   6.9161 -0.004125  0.000000\n",
              "2020-01-29   4.2162   6.9161  0.001614  0.000000\n",
              "2020-01-30   4.2602   6.9161  0.010382  0.000000\n",
              "2020-01-31   4.2801   6.9161  0.004660  0.000000\n",
              "\n",
              "[542 rows x 4 columns]"
            ]
          },
          "metadata": {
            "tags": []
          },
          "execution_count": 8
        }
      ]
    },
    {
      "cell_type": "code",
      "metadata": {
        "id": "zyyU13ml7PcN",
        "colab_type": "code",
        "colab": {
          "base_uri": "https://localhost:8080/",
          "height": 170
        },
        "outputId": "3e50ed5f-2bf1-470f-d049-028e0e917781"
      },
      "source": [
        "# Let's see what the two series look like\n",
        "df['BZUS_RET'].describe()\n"
      ],
      "execution_count": 9,
      "outputs": [
        {
          "output_type": "execute_result",
          "data": {
            "text/plain": [
              "count    492.000000\n",
              "mean       0.000409\n",
              "std        0.008121\n",
              "min       -0.048626\n",
              "25%       -0.004413\n",
              "50%        0.000634\n",
              "75%        0.005436\n",
              "max        0.028812\n",
              "Name: BZUS_RET, dtype: float64"
            ]
          },
          "metadata": {
            "tags": []
          },
          "execution_count": 9
        }
      ]
    },
    {
      "cell_type": "code",
      "metadata": {
        "id": "tjmNSHpB7Sl-",
        "colab_type": "code",
        "colab": {
          "base_uri": "https://localhost:8080/",
          "height": 170
        },
        "outputId": "99de4cb8-8acc-4c04-be75-fb7028655412"
      },
      "source": [
        "df['CHUS_RET'].describe()\n"
      ],
      "execution_count": 10,
      "outputs": [
        {
          "output_type": "execute_result",
          "data": {
            "text/plain": [
              "count    492.000000\n",
              "mean       0.000081\n",
              "std        0.002730\n",
              "min       -0.010986\n",
              "25%       -0.001367\n",
              "50%        0.000000\n",
              "75%        0.001440\n",
              "max        0.015644\n",
              "Name: CHUS_RET, dtype: float64"
            ]
          },
          "metadata": {
            "tags": []
          },
          "execution_count": 10
        }
      ]
    },
    {
      "cell_type": "code",
      "metadata": {
        "id": "X3kWgl7t7WT7",
        "colab_type": "code",
        "colab": {
          "base_uri": "https://localhost:8080/",
          "height": 369
        },
        "outputId": "3fb01c33-83fb-45d2-f8f5-0a411d6b3e32"
      },
      "source": [
        "sns.lmplot(x='CHUS_RET',y='BZUS_RET',data=df)\n",
        "fit_reg=True\n",
        "hue='index'"
      ],
      "execution_count": 11,
      "outputs": [
        {
          "output_type": "display_data",
          "data": {
            "image/png": "[encoded data removed]",
            "text/plain": [
              "<Figure size 360x360 with 1 Axes>"
            ]
          },
          "metadata": {
            "tags": []
          }
        }
      ]
    },
    {
      "cell_type": "code",
      "metadata": {
        "id": "FcSCSarB7YvY",
        "colab_type": "code",
        "colab": {
          "base_uri": "https://localhost:8080/",
          "height": 493
        },
        "outputId": "203427e9-c313-44ca-d27f-43a53d667bb2"
      },
      "source": [
        "# Then we do a linear regression and print results\n",
        "import statsmodels.formula.api as sm\n",
        "result = sm.ols(formula='BZUS_RET ~ CHUS_RET', data=df).fit()\n",
        "print(result.params)\n",
        "print(result.summary())\n",
        "\n",
        "#R sq. of 0.075 means there is no explanatory power into the linear regression"
      ],
      "execution_count": 12,
      "outputs": [
        {
          "output_type": "stream",
          "text": [
            "Intercept    0.000346\n",
            "CHUS_RET     0.780746\n",
            "dtype: float64\n",
            "                            OLS Regression Results                            \n",
            "==============================================================================\n",
            "Dep. Variable:               BZUS_RET   R-squared:                       0.069\n",
            "Model:                            OLS   Adj. R-squared:                  0.067\n",
            "Method:                 Least Squares   F-statistic:                     36.24\n",
            "Date:                Fri, 07 Feb 2020   Prob (F-statistic):           3.42e-09\n",
            "Time:                        18:33:35   Log-Likelihood:                 1688.1\n",
            "No. Observations:                 492   AIC:                            -3372.\n",
            "Df Residuals:                     490   BIC:                            -3364.\n",
            "Df Model:                           1                                         \n",
            "Covariance Type:            nonrobust                                         \n",
            "==============================================================================\n",
            "                 coef    std err          t      P>|t|      [0.025      0.975]\n",
            "------------------------------------------------------------------------------\n",
            "Intercept      0.0003      0.000      0.978      0.329      -0.000       0.001\n",
            "CHUS_RET       0.7807      0.130      6.020      0.000       0.526       1.036\n",
            "==============================================================================\n",
            "Omnibus:                       70.326   Durbin-Watson:                   1.996\n",
            "Prob(Omnibus):                  0.000   Jarque-Bera (JB):              295.452\n",
            "Skew:                          -0.555   Prob(JB):                     6.97e-65\n",
            "Kurtosis:                       6.630   Cond. No.                         367.\n",
            "==============================================================================\n",
            "\n",
            "Warnings:\n",
            "[1] Standard Errors assume that the covariance matrix of the errors is correctly specified.\n"
          ],
          "name": "stdout"
        }
      ]
    },
    {
      "cell_type": "code",
      "metadata": {
        "id": "47Uf3FKM7hTA",
        "colab_type": "code",
        "colab": {
          "base_uri": "https://localhost:8080/",
          "height": 34
        },
        "outputId": "9a1e4872-8b70-45f4-e7e4-52819ef5d1c8"
      },
      "source": [
        "#We can also compute Beta as ( Std1 * Corr12) / Std2 and get the same result as in the regression\n",
        "\n",
        "( df['BZUS_RET'].std() * df['BZUS_RET'].corr(df['CHUS_RET']) ) / df['CHUS_RET'].std()"
      ],
      "execution_count": 13,
      "outputs": [
        {
          "output_type": "execute_result",
          "data": {
            "text/plain": [
              "0.780745875146639"
            ]
          },
          "metadata": {
            "tags": []
          },
          "execution_count": 13
        }
      ]
    },
    {
      "cell_type": "markdown",
      "metadata": {
        "id": "s1jH2B7_7k3k",
        "colab_type": "text"
      },
      "source": [
        "The final equation will look like this:\n",
        "BZUS_RET = 0.789*CHUS_RET + 0.0002"
      ]
    },
    {
      "cell_type": "markdown",
      "metadata": {
        "id": "aYsRvlKZ7n4b",
        "colab_type": "text"
      },
      "source": [
        "Code by: https://github.com/mrstp"
      ]
    }
  ]
}